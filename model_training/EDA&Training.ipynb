{
 "cells": [
  {
   "cell_type": "code",
   "execution_count": 2,
   "id": "4ee8d593-c2ee-46f9-a033-1c606e1cd344",
   "metadata": {},
   "outputs": [],
   "source": [
    "import numpy as np \n",
    "import pandas as pd \n",
    "import sklearn\n",
    "import matplotlib.pyplot as plt"
   ]
  },
  {
   "cell_type": "markdown",
   "id": "92fbfd10-7cd5-45e8-aa05-5cf6ac9fe4fd",
   "metadata": {},
   "source": [
    "# Проводим базовый EDA при помощи ydata-profiling"
   ]
  },
  {
   "cell_type": "code",
   "execution_count": 5,
   "id": "69f0069c-1c12-4eb2-9406-fd4cfa4a7ec2",
   "metadata": {},
   "outputs": [],
   "source": [
    "df = pd.read_csv('cirrhosis.csv')"
   ]
  },
  {
   "cell_type": "code",
   "execution_count": 6,
   "id": "82f7b40b-1703-44df-a0c5-0faa06be5b08",
   "metadata": {},
   "outputs": [],
   "source": [
    "from ydata_profiling import ProfileReport\n",
    "\n",
    "profile = ProfileReport(df, title=\"Profiling Report\")"
   ]
  },
  {
   "cell_type": "code",
   "execution_count": 7,
   "id": "25ee87d6-0b02-487d-9d35-7d9960d3809a",
   "metadata": {
    "scrolled": true
   },
   "outputs": [
    {
     "data": {
      "application/vnd.jupyter.widget-view+json": {
       "model_id": "8c8a7504f70e444e9613cb885e70a8ec",
       "version_major": 2,
       "version_minor": 0
      },
      "text/plain": [
       "Summarize dataset:   0%|          | 0/5 [00:00<?, ?it/s]"
      ]
     },
     "metadata": {},
     "output_type": "display_data"
    },
    {
     "name": "stderr",
     "output_type": "stream",
     "text": [
      "/home/edavletshin/.pyenv/versions/3.10.13/lib/python3.10/site-packages/ydata_profiling/model/correlations.py:66: UserWarning: There was an attempt to calculate the auto correlation, but this failed.\n",
      "To hide this warning, disable the calculation\n",
      "(using `df.profile_report(correlations={\"auto\": {\"calculate\": False}})`\n",
      "If this is problematic for your use case, please report this as an issue:\n",
      "https://github.com/ydataai/ydata-profiling/issues\n",
      "(include the error message: 'could not convert string to float: 'Y'')\n",
      "  warnings.warn(\n",
      "/home/edavletshin/.pyenv/versions/3.10.13/lib/python3.10/site-packages/seaborn/matrix.py:260: FutureWarning: Format strings passed to MaskedConstant are ignored, but in future may error or produce different behavior\n",
      "  annotation = (\"{:\" + self.fmt + \"}\").format(val)\n",
      "/home/edavletshin/.pyenv/versions/3.10.13/lib/python3.10/site-packages/ydata_profiling/model/missing.py:78: UserWarning: There was an attempt to generate the Heatmap missing values diagrams, but this failed.\n",
      "To hide this warning, disable the calculation\n",
      "(using `df.profile_report(missing_diagrams={\"Heatmap\": False}`)\n",
      "If this is problematic for your use case, please report this as an issue:\n",
      "https://github.com/ydataai/ydata-profiling/issues\n",
      "(include the error message: 'could not convert string to float: '--'')\n",
      "  warnings.warn(\n"
     ]
    },
    {
     "data": {
      "application/vnd.jupyter.widget-view+json": {
       "model_id": "87b95996e3d849d8930863920ec5cd86",
       "version_major": 2,
       "version_minor": 0
      },
      "text/plain": [
       "Generate report structure:   0%|          | 0/1 [00:00<?, ?it/s]"
      ]
     },
     "metadata": {},
     "output_type": "display_data"
    },
    {
     "data": {
      "application/vnd.jupyter.widget-view+json": {
       "model_id": "57ae7495bd054e5d93ce9aef80fe8d31",
       "version_major": 2,
       "version_minor": 0
      },
      "text/plain": [
       "Render HTML:   0%|          | 0/1 [00:00<?, ?it/s]"
      ]
     },
     "metadata": {},
     "output_type": "display_data"
    },
    {
     "data": {
      "application/vnd.jupyter.widget-view+json": {
       "model_id": "3af3ea858f394c23829ec2c223c8081d",
       "version_major": 2,
       "version_minor": 0
      },
      "text/plain": [
       "Export report to file:   0%|          | 0/1 [00:00<?, ?it/s]"
      ]
     },
     "metadata": {},
     "output_type": "display_data"
    }
   ],
   "source": [
    "import ipywidgets\n",
    "\n",
    "profile.to_file(\"original.html\")"
   ]
  },
  {
   "cell_type": "code",
   "execution_count": 8,
   "id": "d3ea31d0-6a16-415e-ad65-71545c1cedc8",
   "metadata": {
    "scrolled": true
   },
   "outputs": [],
   "source": [
    "df.drop('ID', axis=1, inplace=True)\n"
   ]
  },
  {
   "cell_type": "code",
   "execution_count": 9,
   "id": "7d7cbfb7-b529-4b57-95d8-d43fd72e6baf",
   "metadata": {},
   "outputs": [],
   "source": [
    "df.drop('Drug', axis=1, inplace=True)"
   ]
  },
  {
   "cell_type": "code",
   "execution_count": 10,
   "id": "2c56b728-863d-4de1-8b2f-76349deef98d",
   "metadata": {},
   "outputs": [],
   "source": [
    "df.dropna(inplace=True)"
   ]
  },
  {
   "cell_type": "code",
   "execution_count": 11,
   "id": "97cedaff-88a4-4510-9b6a-ce8175f5d90c",
   "metadata": {},
   "outputs": [
    {
     "name": "stderr",
     "output_type": "stream",
     "text": [
      "/tmp/ipykernel_27189/397773884.py:1: FutureWarning: Downcasting behavior in `replace` is deprecated and will be removed in a future version. To retain the old behavior, explicitly call `result.infer_objects(copy=False)`. To opt-in to the future behavior, set `pd.set_option('future.no_silent_downcasting', True)`\n",
      "  df['Sex'] = df['Sex'].replace({'F': 0, 'M': 1})\n"
     ]
    }
   ],
   "source": [
    "df['Sex'] = df['Sex'].replace({'F': 0, 'M': 1})"
   ]
  },
  {
   "cell_type": "code",
   "execution_count": 12,
   "id": "c530bb6e-93bb-4f01-9090-2bf2b0b8bda6",
   "metadata": {},
   "outputs": [],
   "source": [
    "df1 = df[df['Status'] != 'CL']"
   ]
  },
  {
   "cell_type": "code",
   "execution_count": 13,
   "id": "fa576de8-eca5-4b04-8599-b357eb3597c7",
   "metadata": {},
   "outputs": [],
   "source": [
    "df_preprocessed = pd.get_dummies(df1, columns=['Ascites', 'Hepatomegaly', 'Spiders', 'Edema', 'Status'], drop_first=True)"
   ]
  },
  {
   "cell_type": "code",
   "execution_count": 14,
   "id": "adfa9252-cc07-420f-ba6d-fa7497e20088",
   "metadata": {},
   "outputs": [],
   "source": [
    "df_preprocessed['Age'] = df_preprocessed['Age'] / 365.25"
   ]
  },
  {
   "cell_type": "code",
   "execution_count": 15,
   "id": "fde58fd6-df37-437f-aa7e-5c6789e41871",
   "metadata": {},
   "outputs": [],
   "source": [
    "from sklearn.preprocessing import StandardScaler\n",
    "scaler = StandardScaler()\n",
    "num_features = ['N_Days', 'Age', 'Bilirubin', 'Cholesterol', 'Albumin', 'Copper', 'Alk_Phos', 'SGOT', 'Tryglicerides', 'Platelets', 'Prothrombin']\n",
    "df_preprocessed[num_features] = scaler.fit_transform(df_preprocessed[num_features])\n"
   ]
  },
  {
   "cell_type": "code",
   "execution_count": 17,
   "id": "6c659708-3941-42e5-8633-390c6b0a5f80",
   "metadata": {},
   "outputs": [],
   "source": [
    "df_preprocessed.to_excel('df_preprocessed.xlsx', index=False)"
   ]
  },
  {
   "cell_type": "markdown",
   "id": "67b1d065-a8e4-4e55-82c3-57ea5abafb06",
   "metadata": {},
   "source": [
    "# Обучаем логистическую регрессию"
   ]
  },
  {
   "cell_type": "code",
   "execution_count": 18,
   "id": "b337b4d7-e78e-4f3b-8a66-f9bbbe7e02d0",
   "metadata": {},
   "outputs": [],
   "source": [
    "from sklearn.model_selection import train_test_split\n",
    "from sklearn.linear_model import LogisticRegression\n",
    "from sklearn.metrics import accuracy_score, precision_score, recall_score, f1_score, roc_auc_score, classification_report"
   ]
  },
  {
   "cell_type": "code",
   "execution_count": 19,
   "id": "1fedbc34-d1c4-469e-98f9-40f07431cff8",
   "metadata": {},
   "outputs": [],
   "source": [
    "# Определение признаков и целевой переменной\n",
    "X = df_preprocessed.drop('Status_D', axis=1)\n",
    "y = df_preprocessed['Status_D']\n",
    "\n",
    "# Разделение данных на обучающую и тестовую выборки\n",
    "X_train, X_test, y_train, y_test = train_test_split(X, y, test_size=0.2, random_state=42)"
   ]
  },
  {
   "cell_type": "code",
   "execution_count": 20,
   "id": "a01846ae-4ae8-4cc3-bc47-74693c0a8be0",
   "metadata": {},
   "outputs": [],
   "source": [
    "# Обучение модели логистической регрессии\n",
    "model_logistic = LogisticRegression(max_iter=1000)\n",
    "model_logistic.fit(X_train, y_train)\n",
    "\n",
    "# Предсказания на тестовой выборке\n",
    "y_pred_logistic = model_logistic.predict(X_test)\n",
    "\n",
    "# Оценка модели\n",
    "accuracy_logistic = accuracy_score(y_test, y_pred_logistic)\n",
    "precision_logistic = precision_score(y_test, y_pred_logistic)\n",
    "recall_logistic = recall_score(y_test, y_pred_logistic)\n",
    "f1_logistic = f1_score(y_test, y_pred_logistic)\n",
    "roc_auc_logistic = roc_auc_score(y_test, y_pred_logistic)"
   ]
  },
  {
   "cell_type": "code",
   "execution_count": 23,
   "id": "b19847e8-38bd-4568-94ec-9bb1bbe14774",
   "metadata": {},
   "outputs": [
    {
     "name": "stdout",
     "output_type": "stream",
     "text": [
      "Logistic regression model results:\n",
      "Accuracy: 0.808\n",
      "Точность (Precision): 0.941\n",
      "Полнота (Recall): 0.640\n",
      "F1: 0.762\n",
      "Площадь под ROC-кривой (AUC-ROC): 0.801\n",
      "\n"
     ]
    }
   ],
   "source": [
    "print(\"Logistic regression model results:\")\n",
    "print(f\"Accuracy: {accuracy_logistic:.3f}\")\n",
    "print(f\"Точность (Precision): {precision_logistic:.3f}\")\n",
    "print(f\"Полнота (Recall): {recall_logistic:.3f}\")\n",
    "print(f\"F1: {f1_logistic:.3f}\")\n",
    "print(f\"Площадь под ROC-кривой (AUC-ROC): {roc_auc_logistic:.3f}\\n\")"
   ]
  },
  {
   "cell_type": "markdown",
   "id": "e20967ce-8755-4da0-a6e4-28a34c8277da",
   "metadata": {},
   "source": [
    "# Обучаем RandomForest"
   ]
  },
  {
   "cell_type": "code",
   "execution_count": 24,
   "id": "f60973e2-1d00-4e75-9183-9cc0f1eccf0e",
   "metadata": {},
   "outputs": [
    {
     "name": "stdout",
     "output_type": "stream",
     "text": [
      "Random Forest baseline model results:\n",
      "Accuracy: 0.769\n",
      "Точность (Precision): 0.882\n",
      "Полнота (Recall): 0.600\n",
      "F1: 0.714\n",
      "Площадь под ROC-кривой (AUC-ROC): 0.763\n",
      "\n"
     ]
    }
   ],
   "source": [
    "from sklearn.ensemble import RandomForestClassifier\n",
    "\n",
    "# Обучение модели случайного леса\n",
    "rf_model = RandomForestClassifier(random_state=42)\n",
    "rf_model.fit(X_train, y_train)\n",
    "\n",
    "# Предсказания на тестовой выборке\n",
    "y_pred_rf = rf_model.predict(X_test)\n",
    "\n",
    "# Оценка модели случайного леса\n",
    "accuracy_rf = accuracy_score(y_test, y_pred_rf)\n",
    "precision_rf = precision_score(y_test, y_pred_rf)\n",
    "recall_rf = recall_score(y_test, y_pred_rf)\n",
    "f1_rf = f1_score(y_test, y_pred_rf)\n",
    "roc_auc_rf = roc_auc_score(y_test, y_pred_rf)\n",
    "\n",
    "print(\"Random Forest baseline model results:\")\n",
    "print(f\"Accuracy: {accuracy_rf:.3f}\")\n",
    "print(f\"Точность (Precision): {precision_rf:.3f}\")\n",
    "print(f\"Полнота (Recall): {recall_rf:.3f}\")\n",
    "print(f\"F1: {f1_rf:.3f}\")\n",
    "print(f\"Площадь под ROC-кривой (AUC-ROC): {roc_auc_rf:.3f}\\n\")\n"
   ]
  },
  {
   "cell_type": "code",
   "execution_count": 25,
   "id": "ffa7a9c8-72d9-4d84-89e2-622b5da3667a",
   "metadata": {},
   "outputs": [
    {
     "name": "stdout",
     "output_type": "stream",
     "text": [
      "Fitting 3 folds for each of 108 candidates, totalling 324 fits\n",
      "Лучшие параметры: {'max_depth': None, 'min_samples_leaf': 1, 'min_samples_split': 10, 'n_estimators': 50}\n",
      "Лучший ROC AUC: 0.8842775041050902\n"
     ]
    }
   ],
   "source": [
    "from sklearn.model_selection import GridSearchCV\n",
    "\n",
    "# Определение параметров для GridSearchCV\n",
    "param_grid = {\n",
    "    'n_estimators': [50, 100, 200],\n",
    "    'max_depth': [None, 10, 20, 30],\n",
    "    'min_samples_split': [2, 5, 10],\n",
    "    'min_samples_leaf': [1, 2, 4]\n",
    "}\n",
    "\n",
    "# Создание модели случайного леса\n",
    "rf = RandomForestClassifier(random_state=42)\n",
    "\n",
    "# Поиск по сетке с кросс-валидацией\n",
    "grid_search = GridSearchCV(estimator=rf, param_grid=param_grid, cv=3, n_jobs=-1, verbose=2, scoring='roc_auc')\n",
    "grid_search.fit(X_train, y_train)\n",
    "\n",
    "# Лучшие параметры и лучший результат\n",
    "best_params = grid_search.best_params_\n",
    "best_score = grid_search.best_score_\n",
    "\n",
    "print(\"Лучшие параметры:\", best_params)\n",
    "print(\"Лучший ROC AUC:\", best_score)\n"
   ]
  },
  {
   "cell_type": "code",
   "execution_count": 26,
   "id": "f47e9e6a-4c6c-4039-bc91-70e0a3892fe7",
   "metadata": {},
   "outputs": [
    {
     "name": "stdout",
     "output_type": "stream",
     "text": [
      "Random Forest optimized model results:\n",
      "Accuracy: 0.788\n",
      "Точность (Precision): 0.889\n",
      "Полнота (Recall): 0.640\n",
      "F1: 0.744\n",
      "Площадь под ROC-кривой (AUC-ROC): 0.783\n",
      "\n"
     ]
    }
   ],
   "source": [
    "# Создание и обучение модели случайного леса с лучшими параметрами\n",
    "rf_best = RandomForestClassifier(\n",
    "    max_depth=None,\n",
    "    min_samples_leaf=1,\n",
    "    min_samples_split=10,\n",
    "    n_estimators=50,\n",
    "    random_state=42\n",
    ")\n",
    "rf_best.fit(X_train, y_train)\n",
    "\n",
    "# Предсказания на тестовой выборке\n",
    "y_pred_rf_best = rf_best.predict(X_test)\n",
    "\n",
    "# Оценка модели\n",
    "accuracy_rf_best = accuracy_score(y_test, y_pred_rf_best)\n",
    "precision_rf_best = precision_score(y_test, y_pred_rf_best)\n",
    "recall_rf_best = recall_score(y_test, y_pred_rf_best)\n",
    "f1_rf_best = f1_score(y_test, y_pred_rf_best)\n",
    "roc_auc_rf_best = roc_auc_score(y_test, y_pred_rf_best)\n",
    "\n",
    "print(\"Random Forest optimized model results:\")\n",
    "print(f\"Accuracy: {accuracy_rf_best:.3f}\")\n",
    "print(f\"Точность (Precision): {precision_rf_best:.3f}\")\n",
    "print(f\"Полнота (Recall): {recall_rf_best:.3f}\")\n",
    "print(f\"F1: {f1_rf_best:.3f}\")\n",
    "print(f\"Площадь под ROC-кривой (AUC-ROC): {roc_auc_rf_best:.3f}\\n\")\n"
   ]
  },
  {
   "cell_type": "markdown",
   "id": "6e76deaa-0538-4b52-b3be-20508cc6ecd1",
   "metadata": {},
   "source": [
    "# Обучаем XGBoost"
   ]
  },
  {
   "cell_type": "code",
   "execution_count": 28,
   "id": "f61f8d82-3e2c-4288-98f8-23781cbaff62",
   "metadata": {},
   "outputs": [],
   "source": [
    "import xgboost as xgb\n",
    "\n",
    "# Создание и обучение модели XGBoost\n",
    "xgb_model = xgb.XGBClassifier(use_label_encoder=False, eval_metric='logloss', random_state=42)\n",
    "xgb_model.fit(X_train, y_train)\n",
    "\n",
    "# Предсказания на тестовой выборке\n",
    "y_pred_xgb = xgb_model.predict(X_test)\n",
    "\n",
    "# Оценка модели\n",
    "accuracy_xgb = accuracy_score(y_test, y_pred_xgb)\n",
    "precision_xgb = precision_score(y_test, y_pred_xgb)\n",
    "recall_xgb = recall_score(y_test, y_pred_xgb)\n",
    "f1_xgb = f1_score(y_test, y_pred_xgb)\n",
    "roc_auc_xgb = roc_auc_score(y_test, y_pred_xgb)"
   ]
  },
  {
   "cell_type": "code",
   "execution_count": 30,
   "id": "5518bdb9-9c30-4fac-80a2-9e961769b066",
   "metadata": {},
   "outputs": [
    {
     "name": "stdout",
     "output_type": "stream",
     "text": [
      "XGBoost baseline model results:\n",
      "Accuracy: 0.731\n",
      "Точность (Precision): 0.824\n",
      "Полнота (Recall): 0.560\n",
      "F1: 0.667\n",
      "Площадь под ROC-кривой (AUC-ROC): 0.724\n",
      "\n"
     ]
    }
   ],
   "source": [
    "print(\"XGBoost baseline model results:\")\n",
    "print(f\"Accuracy: {accuracy_xgb:.3f}\")\n",
    "print(f\"Точность (Precision): {precision_xgb:.3f}\")\n",
    "print(f\"Полнота (Recall): {recall_xgb:.3f}\")\n",
    "print(f\"F1: {f1_xgb:.3f}\")\n",
    "print(f\"Площадь под ROC-кривой (AUC-ROC): {roc_auc_xgb:.3f}\\n\")"
   ]
  },
  {
   "cell_type": "code",
   "execution_count": 31,
   "id": "6cf4e710-0192-47ea-a8c0-87054bf6881f",
   "metadata": {
    "scrolled": true
   },
   "outputs": [
    {
     "name": "stderr",
     "output_type": "stream",
     "text": [
      "[I 2024-02-21 23:45:39,495] A new study created in memory with name: no-name-f8a89739-9b5f-44bf-afbf-13fb0324458e\n",
      "[I 2024-02-21 23:45:39,592] Trial 0 finished with value: 0.74 and parameters: {'lambda': 0.02347127751955169, 'alpha': 0.14917070517637426, 'max_depth': 4, 'eta': 0.003652024992959075, 'gamma': 0.0036082607442728333, 'grow_policy': 'depthwise', 'subsample': 0.8954905940958865, 'colsample_bytree': 0.7408987980970454}. Best is trial 0 with value: 0.74.\n",
      "[I 2024-02-21 23:45:39,698] Trial 1 finished with value: 0.58 and parameters: {'lambda': 0.02041487762227747, 'alpha': 0.004617441764618447, 'max_depth': 9, 'eta': 0.0019266475772732928, 'gamma': 0.0038161788363382776, 'grow_policy': 'lossguide', 'subsample': 0.6926330048326123, 'colsample_bytree': 0.5288623132220391}. Best is trial 0 with value: 0.74.\n",
      "[I 2024-02-21 23:45:39,783] Trial 2 finished with value: 0.5 and parameters: {'lambda': 2.69892262959657, 'alpha': 0.12411549259090658, 'max_depth': 4, 'eta': 0.0017127877342187731, 'gamma': 0.014261731901852101, 'grow_policy': 'depthwise', 'subsample': 0.7191966608174122, 'colsample_bytree': 0.9348412388957048}. Best is trial 0 with value: 0.74.\n",
      "[I 2024-02-21 23:45:39,887] Trial 3 finished with value: 0.7444444444444445 and parameters: {'lambda': 0.20618423035800953, 'alpha': 0.0522039914013592, 'max_depth': 6, 'eta': 0.01876326191004868, 'gamma': 0.00221659046488876, 'grow_policy': 'lossguide', 'subsample': 0.9462761639941042, 'colsample_bytree': 0.908669052373124}. Best is trial 3 with value: 0.7444444444444445.\n",
      "[I 2024-02-21 23:45:39,981] Trial 4 finished with value: 0.7414814814814815 and parameters: {'lambda': 0.009442518068517597, 'alpha': 2.087688007685031, 'max_depth': 7, 'eta': 0.020117500972182966, 'gamma': 0.017132824138624974, 'grow_policy': 'depthwise', 'subsample': 0.8712022002160031, 'colsample_bytree': 0.5429012838195804}. Best is trial 3 with value: 0.7444444444444445.\n",
      "[I 2024-02-21 23:45:40,085] Trial 5 finished with value: 0.76 and parameters: {'lambda': 0.0038879849127706916, 'alpha': 1.442657407083779, 'max_depth': 7, 'eta': 0.004565319827514471, 'gamma': 0.013246225478146308, 'grow_policy': 'lossguide', 'subsample': 0.904168363353364, 'colsample_bytree': 0.6277920489105665}. Best is trial 5 with value: 0.76.\n",
      "[I 2024-02-21 23:45:40,184] Trial 6 finished with value: 0.66 and parameters: {'lambda': 0.003031839284769899, 'alpha': 0.006523979421464565, 'max_depth': 9, 'eta': 0.0021989988563560514, 'gamma': 0.09491613084405952, 'grow_policy': 'lossguide', 'subsample': 0.578054123927112, 'colsample_bytree': 0.8874840623330851}. Best is trial 5 with value: 0.76.\n",
      "[I 2024-02-21 23:45:40,308] Trial 7 finished with value: 0.7629629629629631 and parameters: {'lambda': 0.007669998036353029, 'alpha': 0.0031787299762796118, 'max_depth': 3, 'eta': 0.01654815934539026, 'gamma': 4.042702923875122, 'grow_policy': 'lossguide', 'subsample': 0.6322948766056564, 'colsample_bytree': 0.9079810773982414}. Best is trial 7 with value: 0.7629629629629631.\n",
      "[I 2024-02-21 23:45:40,446] Trial 8 finished with value: 0.7629629629629631 and parameters: {'lambda': 3.48632551458936, 'alpha': 0.002728580107457732, 'max_depth': 6, 'eta': 0.017973955995960737, 'gamma': 0.0015856878232098552, 'grow_policy': 'lossguide', 'subsample': 0.8419355655062177, 'colsample_bytree': 0.7542991267961159}. Best is trial 7 with value: 0.7629629629629631.\n",
      "[I 2024-02-21 23:45:40,515] Trial 9 finished with value: 0.7214814814814815 and parameters: {'lambda': 9.675557359585644, 'alpha': 3.560588125648881, 'max_depth': 4, 'eta': 0.018274987780050454, 'gamma': 0.037176406185964364, 'grow_policy': 'lossguide', 'subsample': 0.7106384044073075, 'colsample_bytree': 0.6515793853847203}. Best is trial 7 with value: 0.7629629629629631.\n",
      "[I 2024-02-21 23:45:40,697] Trial 10 finished with value: 0.7814814814814816 and parameters: {'lambda': 0.19991693872180363, 'alpha': 0.001090101018217862, 'max_depth': 3, 'eta': 0.09469895751683301, 'gamma': 3.4051023910230604, 'grow_policy': 'depthwise', 'subsample': 0.5259282866926009, 'colsample_bytree': 0.8340607587097445}. Best is trial 10 with value: 0.7814814814814816.\n",
      "[I 2024-02-21 23:45:40,807] Trial 11 finished with value: 0.7429629629629629 and parameters: {'lambda': 0.15530067486159255, 'alpha': 0.0011667953054830637, 'max_depth': 3, 'eta': 0.07784672215816624, 'gamma': 4.4216829515567015, 'grow_policy': 'depthwise', 'subsample': 0.5108837554758547, 'colsample_bytree': 0.8375855961297664}. Best is trial 10 with value: 0.7814814814814816.\n",
      "[I 2024-02-21 23:45:40,893] Trial 12 finished with value: 0.722962962962963 and parameters: {'lambda': 0.8194652677766655, 'alpha': 0.02133077138416714, 'max_depth': 3, 'eta': 0.09505009120848289, 'gamma': 3.726483194621679, 'grow_policy': 'depthwise', 'subsample': 0.6158408314407926, 'colsample_bytree': 0.9729861036244131}. Best is trial 10 with value: 0.7814814814814816.\n",
      "[I 2024-02-21 23:45:40,985] Trial 13 finished with value: 0.8029629629629631 and parameters: {'lambda': 0.046330954851088395, 'alpha': 0.0011240377791291085, 'max_depth': 5, 'eta': 0.04425613412110065, 'gamma': 0.7762287384554056, 'grow_policy': 'depthwise', 'subsample': 0.5139384994424891, 'colsample_bytree': 0.8069305439253637}. Best is trial 13 with value: 0.8029629629629631.\n",
      "[I 2024-02-21 23:45:41,087] Trial 14 finished with value: 0.782962962962963 and parameters: {'lambda': 0.05631105687175988, 'alpha': 0.016761071896354666, 'max_depth': 5, 'eta': 0.04875213274812021, 'gamma': 0.7494100143764717, 'grow_policy': 'depthwise', 'subsample': 0.5034264724551557, 'colsample_bytree': 0.8074659431637704}. Best is trial 13 with value: 0.8029629629629631.\n",
      "[I 2024-02-21 23:45:41,189] Trial 15 finished with value: 0.8029629629629631 and parameters: {'lambda': 0.0010666986798219243, 'alpha': 0.01888424259710958, 'max_depth': 5, 'eta': 0.037211220737736736, 'gamma': 0.6038560606119763, 'grow_policy': 'depthwise', 'subsample': 0.7907275184333316, 'colsample_bytree': 0.7642578476643282}. Best is trial 13 with value: 0.8029629629629631.\n",
      "[I 2024-02-21 23:45:41,364] Trial 16 finished with value: 0.782962962962963 and parameters: {'lambda': 0.0010065558715789808, 'alpha': 0.5824853795089343, 'max_depth': 5, 'eta': 0.041683034830600686, 'gamma': 0.594006051745728, 'grow_policy': 'depthwise', 'subsample': 0.7969915953281098, 'colsample_bytree': 0.7174923134428038}. Best is trial 13 with value: 0.8029629629629631.\n",
      "[I 2024-02-21 23:45:41,473] Trial 17 finished with value: 0.782962962962963 and parameters: {'lambda': 0.0011967073003296468, 'alpha': 0.015098992125433025, 'max_depth': 5, 'eta': 0.045269239424436225, 'gamma': 0.5425495690121434, 'grow_policy': 'depthwise', 'subsample': 0.7707758992380493, 'colsample_bytree': 0.6800493185051348}. Best is trial 13 with value: 0.8029629629629631.\n",
      "[I 2024-02-21 23:45:41,575] Trial 18 finished with value: 0.74 and parameters: {'lambda': 0.05127834270358208, 'alpha': 8.68191123992177, 'max_depth': 7, 'eta': 0.006778931843376766, 'gamma': 0.1573375406811621, 'grow_policy': 'depthwise', 'subsample': 0.9976617113995391, 'colsample_bytree': 0.7746558551979147}. Best is trial 13 with value: 0.8029629629629631.\n",
      "[I 2024-02-21 23:45:41,671] Trial 19 finished with value: 0.782962962962963 and parameters: {'lambda': 0.6509016438040114, 'alpha': 0.32189657206098177, 'max_depth': 8, 'eta': 0.029102420888351112, 'gamma': 1.1981619474922567, 'grow_policy': 'depthwise', 'subsample': 0.6523766768814145, 'colsample_bytree': 0.5886394692781106}. Best is trial 13 with value: 0.8029629629629631.\n",
      "[I 2024-02-21 23:45:41,789] Trial 20 finished with value: 0.7629629629629631 and parameters: {'lambda': 0.7268016650205728, 'alpha': 0.060730311267699, 'max_depth': 5, 'eta': 0.009982160983610693, 'gamma': 0.22377247282002552, 'grow_policy': 'depthwise', 'subsample': 0.8231588929130179, 'colsample_bytree': 0.8559520262178487}. Best is trial 13 with value: 0.8029629629629631.\n",
      "[I 2024-02-21 23:45:41,889] Trial 21 finished with value: 0.782962962962963 and parameters: {'lambda': 0.03598128703363668, 'alpha': 0.015784355960774318, 'max_depth': 5, 'eta': 0.049975960226482506, 'gamma': 1.2309661985150804, 'grow_policy': 'depthwise', 'subsample': 0.5705104815494971, 'colsample_bytree': 0.7990155545401368}. Best is trial 13 with value: 0.8029629629629631.\n",
      "[I 2024-02-21 23:45:41,987] Trial 22 finished with value: 0.7629629629629631 and parameters: {'lambda': 0.07817139337638516, 'alpha': 0.027771627620668777, 'max_depth': 6, 'eta': 0.03228037256362669, 'gamma': 0.40199158319303263, 'grow_policy': 'depthwise', 'subsample': 0.5616224296613386, 'colsample_bytree': 0.8021540031385491}. Best is trial 13 with value: 0.8029629629629631.\n",
      "[I 2024-02-21 23:45:42,077] Trial 23 finished with value: 0.7429629629629629 and parameters: {'lambda': 0.01436848207094395, 'alpha': 0.008798611777430774, 'max_depth': 4, 'eta': 0.06144539438228479, 'gamma': 1.3890755801807404, 'grow_policy': 'depthwise', 'subsample': 0.5033670068314655, 'colsample_bytree': 0.7041470770519012}. Best is trial 13 with value: 0.8029629629629631.\n",
      "[I 2024-02-21 23:45:42,171] Trial 24 finished with value: 0.7644444444444445 and parameters: {'lambda': 0.0028602866641517163, 'alpha': 0.0021855457982196, 'max_depth': 5, 'eta': 0.03152698923959222, 'gamma': 0.0761311018993285, 'grow_policy': 'depthwise', 'subsample': 0.7616947394496105, 'colsample_bytree': 0.7870302873869756}. Best is trial 13 with value: 0.8029629629629631.\n",
      "[I 2024-02-21 23:45:42,279] Trial 25 finished with value: 0.722962962962963 and parameters: {'lambda': 0.41505654435944256, 'alpha': 0.03643949952970839, 'max_depth': 6, 'eta': 0.011823651456119192, 'gamma': 8.407622100568599, 'grow_policy': 'depthwise', 'subsample': 0.6781824087359258, 'colsample_bytree': 0.8619466658657204}. Best is trial 13 with value: 0.8029629629629631.\n",
      "[I 2024-02-21 23:45:42,389] Trial 26 finished with value: 0.7629629629629631 and parameters: {'lambda': 0.06985775974454259, 'alpha': 0.0105692296179407, 'max_depth': 5, 'eta': 0.06525142902050136, 'gamma': 0.24904621843171398, 'grow_policy': 'depthwise', 'subsample': 0.5513423646073214, 'colsample_bytree': 0.7284992914742073}. Best is trial 13 with value: 0.8029629629629631.\n",
      "[I 2024-02-21 23:45:42,508] Trial 27 finished with value: 0.782962962962963 and parameters: {'lambda': 0.12989764589046693, 'alpha': 0.26960067084819345, 'max_depth': 4, 'eta': 0.03262474169634194, 'gamma': 0.9085511317929901, 'grow_policy': 'depthwise', 'subsample': 0.6057497464707732, 'colsample_bytree': 0.8187528718497503}. Best is trial 13 with value: 0.8029629629629631.\n",
      "[I 2024-02-21 23:45:42,611] Trial 28 finished with value: 0.7644444444444445 and parameters: {'lambda': 0.006114057167827177, 'alpha': 0.07675703335774324, 'max_depth': 6, 'eta': 0.025855987507159797, 'gamma': 0.3593930338605921, 'grow_policy': 'depthwise', 'subsample': 0.6552189729126637, 'colsample_bytree': 0.7616056241919209}. Best is trial 13 with value: 0.8029629629629631.\n",
      "[I 2024-02-21 23:45:42,738] Trial 29 finished with value: 0.7444444444444445 and parameters: {'lambda': 0.03385139330270597, 'alpha': 0.005437137304463884, 'max_depth': 4, 'eta': 0.012269217369437114, 'gamma': 2.678960741242108, 'grow_policy': 'depthwise', 'subsample': 0.537517484559535, 'colsample_bytree': 0.6893525216573616}. Best is trial 13 with value: 0.8029629629629631.\n",
      "[I 2024-02-21 23:45:42,843] Trial 30 finished with value: 0.7644444444444445 and parameters: {'lambda': 0.014973729560825164, 'alpha': 0.18760331322587595, 'max_depth': 5, 'eta': 0.05836916271468748, 'gamma': 1.7269761991698047, 'grow_policy': 'depthwise', 'subsample': 0.7318871882300898, 'colsample_bytree': 0.9910229421623484}. Best is trial 13 with value: 0.8029629629629631.\n",
      "[I 2024-02-21 23:45:42,948] Trial 31 finished with value: 0.782962962962963 and parameters: {'lambda': 0.0011558421032203346, 'alpha': 0.6644099013842886, 'max_depth': 5, 'eta': 0.04314166977877649, 'gamma': 0.5106064887792577, 'grow_policy': 'depthwise', 'subsample': 0.7897014465942707, 'colsample_bytree': 0.7381015820163909}. Best is trial 13 with value: 0.8029629629629631.\n",
      "[I 2024-02-21 23:45:43,054] Trial 32 finished with value: 0.8029629629629631 and parameters: {'lambda': 0.001758912001396497, 'alpha': 0.7590702251555634, 'max_depth': 6, 'eta': 0.039403606853156845, 'gamma': 0.6377204185710184, 'grow_policy': 'depthwise', 'subsample': 0.8061523951849898, 'colsample_bytree': 0.7206010260756575}. Best is trial 13 with value: 0.8029629629629631.\n",
      "[I 2024-02-21 23:45:43,156] Trial 33 finished with value: 0.782962962962963 and parameters: {'lambda': 0.0020060474252023394, 'alpha': 0.09886252784580805, 'max_depth': 7, 'eta': 0.039416965286615355, 'gamma': 0.7609640641254178, 'grow_policy': 'depthwise', 'subsample': 0.830508232552244, 'colsample_bytree': 0.6606808298763854}. Best is trial 13 with value: 0.8029629629629631.\n",
      "[I 2024-02-21 23:45:43,261] Trial 34 finished with value: 0.5 and parameters: {'lambda': 0.02499433567889429, 'alpha': 0.03551824306745183, 'max_depth': 6, 'eta': 0.0012307219058389426, 'gamma': 0.145270232206132, 'grow_policy': 'depthwise', 'subsample': 0.8666059738525662, 'colsample_bytree': 0.7716165064371646}. Best is trial 13 with value: 0.8029629629629631.\n",
      "[I 2024-02-21 23:45:43,367] Trial 35 finished with value: 0.7444444444444445 and parameters: {'lambda': 0.004994242646237308, 'alpha': 0.7917050585512102, 'max_depth': 6, 'eta': 0.023803291053729303, 'gamma': 1.9995667568986284, 'grow_policy': 'depthwise', 'subsample': 0.7387597230323224, 'colsample_bytree': 0.8772760805748212}. Best is trial 13 with value: 0.8029629629629631.\n",
      "[I 2024-02-21 23:45:43,456] Trial 36 finished with value: 0.7644444444444445 and parameters: {'lambda': 0.002364479670922333, 'alpha': 0.14705045668030828, 'max_depth': 4, 'eta': 0.07521103533453465, 'gamma': 0.05198878887080969, 'grow_policy': 'depthwise', 'subsample': 0.9063351692986945, 'colsample_bytree': 0.6159936908412335}. Best is trial 13 with value: 0.8029629629629631.\n",
      "[I 2024-02-21 23:45:43,578] Trial 37 finished with value: 0.7644444444444445 and parameters: {'lambda': 0.013347338303670664, 'alpha': 0.0020403982214436834, 'max_depth': 7, 'eta': 0.05150280240977352, 'gamma': 0.2556828150008211, 'grow_policy': 'lossguide', 'subsample': 0.6890972834183585, 'colsample_bytree': 0.8159776256172772}. Best is trial 13 with value: 0.8029629629629631.\n",
      "[I 2024-02-21 23:45:43,679] Trial 38 finished with value: 0.7429629629629629 and parameters: {'lambda': 0.3527487954155715, 'alpha': 0.0047714192580825265, 'max_depth': 8, 'eta': 0.01369440778443558, 'gamma': 6.481923447815554, 'grow_policy': 'depthwise', 'subsample': 0.7980931105545569, 'colsample_bytree': 0.9206329591846577}. Best is trial 13 with value: 0.8029629629629631.\n",
      "[I 2024-02-21 23:45:43,796] Trial 39 finished with value: 0.7614814814814815 and parameters: {'lambda': 0.0019979937643698847, 'alpha': 1.7780579339362133, 'max_depth': 5, 'eta': 0.0059448070691755705, 'gamma': 0.8370241127813304, 'grow_policy': 'lossguide', 'subsample': 0.9491094250570189, 'colsample_bytree': 0.7496499098918936}. Best is trial 13 with value: 0.8029629629629631.\n",
      "[I 2024-02-21 23:45:43,891] Trial 40 finished with value: 0.5 and parameters: {'lambda': 1.459151816337783, 'alpha': 2.9186887589441977, 'max_depth': 8, 'eta': 0.0027626482047233988, 'gamma': 0.007281974530820102, 'grow_policy': 'depthwise', 'subsample': 0.5988425264049343, 'colsample_bytree': 0.5504209467675705}. Best is trial 13 with value: 0.8029629629629631.\n",
      "[I 2024-02-21 23:45:43,982] Trial 41 finished with value: 0.7644444444444445 and parameters: {'lambda': 0.0013021101923061057, 'alpha': 0.5563948980822335, 'max_depth': 5, 'eta': 0.04123304094593003, 'gamma': 0.7151091470025048, 'grow_policy': 'depthwise', 'subsample': 0.8621283437616418, 'colsample_bytree': 0.7139078051393354}. Best is trial 13 with value: 0.8029629629629631.\n",
      "[I 2024-02-21 23:45:44,085] Trial 42 finished with value: 0.782962962962963 and parameters: {'lambda': 0.00365911337947665, 'alpha': 1.167706914834119, 'max_depth': 5, 'eta': 0.03680964902013671, 'gamma': 0.39457576623554413, 'grow_policy': 'depthwise', 'subsample': 0.8048384069961667, 'colsample_bytree': 0.7221799919950884}. Best is trial 13 with value: 0.8029629629629631.\n",
      "[I 2024-02-21 23:45:44,257] Trial 43 finished with value: 0.7629629629629631 and parameters: {'lambda': 0.001009151619075569, 'alpha': 0.3546583279243691, 'max_depth': 6, 'eta': 0.020706799266924047, 'gamma': 2.0866515045096485, 'grow_policy': 'depthwise', 'subsample': 0.7109450187072187, 'colsample_bytree': 0.6727302958453806}. Best is trial 13 with value: 0.8029629629629631.\n",
      "[I 2024-02-21 23:45:44,383] Trial 44 finished with value: 0.7629629629629631 and parameters: {'lambda': 0.00795094585442159, 'alpha': 1.06076118558256, 'max_depth': 6, 'eta': 0.07355871884173526, 'gamma': 0.11793033463126117, 'grow_policy': 'lossguide', 'subsample': 0.7682656924528081, 'colsample_bytree': 0.7002034948913576}. Best is trial 13 with value: 0.8029629629629631.\n",
      "[I 2024-02-21 23:45:44,537] Trial 45 finished with value: 0.7414814814814815 and parameters: {'lambda': 0.001666672578063008, 'alpha': 8.264202524677575, 'max_depth': 4, 'eta': 0.023841484054275403, 'gamma': 0.5783189826743721, 'grow_policy': 'depthwise', 'subsample': 0.8909816439773934, 'colsample_bytree': 0.642629620162575}. Best is trial 13 with value: 0.8029629629629631.\n",
      "[I 2024-02-21 23:45:44,656] Trial 46 finished with value: 0.7444444444444445 and parameters: {'lambda': 0.00444467179497692, 'alpha': 0.4723843479424801, 'max_depth': 5, 'eta': 0.0520038385696296, 'gamma': 0.19926837412229287, 'grow_policy': 'depthwise', 'subsample': 0.8433902314834819, 'colsample_bytree': 0.841250217273983}. Best is trial 13 with value: 0.8029629629629631.\n",
      "[I 2024-02-21 23:45:44,911] Trial 47 finished with value: 0.7629629629629631 and parameters: {'lambda': 0.0016305756404122443, 'alpha': 0.19311783943760855, 'max_depth': 5, 'eta': 0.0952066174670848, 'gamma': 0.3639631400691278, 'grow_policy': 'depthwise', 'subsample': 0.8127710551794326, 'colsample_bytree': 0.7447551464460089}. Best is trial 13 with value: 0.8029629629629631.\n",
      "[I 2024-02-21 23:45:45,146] Trial 48 finished with value: 0.8029629629629631 and parameters: {'lambda': 0.002886973817877352, 'alpha': 0.010201836088188414, 'max_depth': 7, 'eta': 0.03589082148448524, 'gamma': 1.1116804077473765, 'grow_policy': 'lossguide', 'subsample': 0.7858408817796737, 'colsample_bytree': 0.7841738793647364}. Best is trial 13 with value: 0.8029629629629631.\n",
      "[I 2024-02-21 23:45:45,368] Trial 49 finished with value: 0.7429629629629629 and parameters: {'lambda': 0.009697974542157648, 'alpha': 0.0031254774071229094, 'max_depth': 7, 'eta': 0.028491036104588613, 'gamma': 2.7045540076290258, 'grow_policy': 'lossguide', 'subsample': 0.5293732748424607, 'colsample_bytree': 0.7880866924471214}. Best is trial 13 with value: 0.8029629629629631.\n",
      "[I 2024-02-21 23:45:45,812] Trial 50 finished with value: 0.7444444444444445 and parameters: {'lambda': 0.003015483700316897, 'alpha': 0.007475347779034557, 'max_depth': 7, 'eta': 0.019526843074361547, 'gamma': 0.983731575615698, 'grow_policy': 'lossguide', 'subsample': 0.741480668102309, 'colsample_bytree': 0.8909991370519958}. Best is trial 13 with value: 0.8029629629629631.\n",
      "[I 2024-02-21 23:45:45,911] Trial 51 finished with value: 0.782962962962963 and parameters: {'lambda': 0.0010244546377908708, 'alpha': 0.018267575303129717, 'max_depth': 6, 'eta': 0.03767304458807891, 'gamma': 1.4710753648914898, 'grow_policy': 'lossguide', 'subsample': 0.7857571255436884, 'colsample_bytree': 0.769915687862183}. Best is trial 13 with value: 0.8029629629629631.\n",
      "[I 2024-02-21 23:45:46,044] Trial 52 finished with value: 0.7444444444444445 and parameters: {'lambda': 0.044950945659463185, 'alpha': 0.011529811135687863, 'max_depth': 6, 'eta': 0.04772201831150761, 'gamma': 0.5736302200337222, 'grow_policy': 'lossguide', 'subsample': 0.8446415807190608, 'colsample_bytree': 0.7932121648646266}. Best is trial 13 with value: 0.8029629629629631.\n",
      "[I 2024-02-21 23:45:46,142] Trial 53 finished with value: 0.7429629629629629 and parameters: {'lambda': 0.023012649154780466, 'alpha': 0.0016615642805766012, 'max_depth': 5, 'eta': 0.034047044184160165, 'gamma': 5.253669011056118, 'grow_policy': 'lossguide', 'subsample': 0.7545001638503648, 'colsample_bytree': 0.8135897640438112}. Best is trial 13 with value: 0.8029629629629631.\n",
      "[I 2024-02-21 23:45:46,239] Trial 54 finished with value: 0.8029629629629631 and parameters: {'lambda': 0.0015693042478166057, 'alpha': 0.05205893584717055, 'max_depth': 4, 'eta': 0.059527898467755525, 'gamma': 0.293956083502779, 'grow_policy': 'depthwise', 'subsample': 0.7736808565485238, 'colsample_bytree': 0.83265461123951}. Best is trial 13 with value: 0.8029629629629631.\n",
      "[I 2024-02-21 23:45:46,332] Trial 55 finished with value: 0.7644444444444445 and parameters: {'lambda': 0.10521416492093918, 'alpha': 0.0454143038610757, 'max_depth': 3, 'eta': 0.06603835582938274, 'gamma': 0.29464794115847787, 'grow_policy': 'depthwise', 'subsample': 0.7764209771416543, 'colsample_bytree': 0.8341314320408015}. Best is trial 13 with value: 0.8029629629629631.\n",
      "[I 2024-02-21 23:45:46,440] Trial 56 finished with value: 0.7644444444444445 and parameters: {'lambda': 5.381902305821106, 'alpha': 0.020697434247498078, 'max_depth': 9, 'eta': 0.08181972205091076, 'gamma': 0.08226813987814759, 'grow_policy': 'lossguide', 'subsample': 0.7262258676742235, 'colsample_bytree': 0.8563042410226862}. Best is trial 13 with value: 0.8029629629629631.\n",
      "[I 2024-02-21 23:45:46,542] Trial 57 finished with value: 0.7429629629629629 and parameters: {'lambda': 0.0027815928806185605, 'alpha': 0.07223587063667818, 'max_depth': 4, 'eta': 0.015425070464025982, 'gamma': 0.18318574295113663, 'grow_policy': 'depthwise', 'subsample': 0.5138782628517513, 'colsample_bytree': 0.8240862286731564}. Best is trial 13 with value: 0.8029629629629631.\n",
      "[I 2024-02-21 23:45:46,635] Trial 58 finished with value: 0.7444444444444445 and parameters: {'lambda': 0.005654417967513587, 'alpha': 0.0321057316909416, 'max_depth': 3, 'eta': 0.053987918789360094, 'gamma': 0.9223025155744061, 'grow_policy': 'depthwise', 'subsample': 0.8225057159823539, 'colsample_bytree': 0.8797526010772856}. Best is trial 13 with value: 0.8029629629629631.\n",
      "[I 2024-02-21 23:45:46,754] Trial 59 finished with value: 0.7444444444444445 and parameters: {'lambda': 0.21529396670300371, 'alpha': 0.01191347229120438, 'max_depth': 8, 'eta': 0.02636622424849042, 'gamma': 1.3066817178256527, 'grow_policy': 'depthwise', 'subsample': 0.7562843991023246, 'colsample_bytree': 0.9375247233375961}. Best is trial 13 with value: 0.8029629629629631.\n",
      "[I 2024-02-21 23:45:46,865] Trial 60 finished with value: 0.7429629629629629 and parameters: {'lambda': 0.0015818834590240333, 'alpha': 0.003816067710230648, 'max_depth': 4, 'eta': 0.008540223764862043, 'gamma': 0.469964514109081, 'grow_policy': 'depthwise', 'subsample': 0.5855041994838865, 'colsample_bytree': 0.7771776755603239}. Best is trial 13 with value: 0.8029629629629631.\n",
      "[I 2024-02-21 23:45:46,960] Trial 61 finished with value: 0.7629629629629631 and parameters: {'lambda': 0.0020435803013109694, 'alpha': 0.09605716818133801, 'max_depth': 4, 'eta': 0.04488745529299483, 'gamma': 0.6625500122673117, 'grow_policy': 'depthwise', 'subsample': 0.7874802363657383, 'colsample_bytree': 0.7550050630530826}. Best is trial 13 with value: 0.8029629629629631.\n",
      "[I 2024-02-21 23:45:47,066] Trial 62 finished with value: 0.8029629629629631 and parameters: {'lambda': 0.0035922409771171216, 'alpha': 0.025503703226363195, 'max_depth': 5, 'eta': 0.06212533695510033, 'gamma': 0.2994102971450353, 'grow_policy': 'depthwise', 'subsample': 0.811092568925751, 'colsample_bytree': 0.7308709189042419}. Best is trial 13 with value: 0.8029629629629631.\n",
      "[I 2024-02-21 23:45:47,175] Trial 63 finished with value: 0.7444444444444445 and parameters: {'lambda': 0.0035452816523597157, 'alpha': 0.023625588932262475, 'max_depth': 5, 'eta': 0.05768563536799283, 'gamma': 0.29597990042555905, 'grow_policy': 'depthwise', 'subsample': 0.8141412387029163, 'colsample_bytree': 0.8056727183313016}. Best is trial 13 with value: 0.8029629629629631.\n",
      "[I 2024-02-21 23:45:47,273] Trial 64 finished with value: 0.7644444444444445 and parameters: {'lambda': 0.006929809380644333, 'alpha': 0.05009168449804272, 'max_depth': 7, 'eta': 0.08496522198270978, 'gamma': 1.0086033172050999, 'grow_policy': 'depthwise', 'subsample': 0.8532562656676612, 'colsample_bytree': 0.7341287746124283}. Best is trial 13 with value: 0.8029629629629631.\n",
      "[I 2024-02-21 23:45:47,364] Trial 65 finished with value: 0.7629629629629631 and parameters: {'lambda': 0.06216592422256384, 'alpha': 0.006651113322676287, 'max_depth': 4, 'eta': 0.06378851894376698, 'gamma': 2.5468598446221726, 'grow_policy': 'depthwise', 'subsample': 0.8859215809272718, 'colsample_bytree': 0.7863878445151671}. Best is trial 13 with value: 0.8029629629629631.\n",
      "[I 2024-02-21 23:45:47,465] Trial 66 finished with value: 0.8029629629629631 and parameters: {'lambda': 0.011560055867427812, 'alpha': 0.013171161305318558, 'max_depth': 6, 'eta': 0.07048167753249253, 'gamma': 0.022779251063949856, 'grow_policy': 'depthwise', 'subsample': 0.5448342978555288, 'colsample_bytree': 0.8443570622878516}. Best is trial 13 with value: 0.8029629629629631.\n",
      "[I 2024-02-21 23:45:47,566] Trial 67 finished with value: 0.782962962962963 and parameters: {'lambda': 0.009936261813321077, 'alpha': 0.0260974108091921, 'max_depth': 6, 'eta': 0.0672323726108389, 'gamma': 0.0059344283969657635, 'grow_policy': 'depthwise', 'subsample': 0.7762268976601306, 'colsample_bytree': 0.8447382133908129}. Best is trial 13 with value: 0.8029629629629631.\n",
      "[I 2024-02-21 23:45:47,668] Trial 68 finished with value: 0.7429629629629629 and parameters: {'lambda': 0.004345161882459815, 'alpha': 0.0010041796639006638, 'max_depth': 6, 'eta': 0.08755897553011942, 'gamma': 0.05426253427497259, 'grow_policy': 'lossguide', 'subsample': 0.5424919829352384, 'colsample_bytree': 0.7623748148357541}. Best is trial 13 with value: 0.8029629629629631.\n",
      "[I 2024-02-21 23:45:47,895] Trial 69 finished with value: 0.7429629629629629 and parameters: {'lambda': 0.0023674232296373556, 'alpha': 0.01346977108207923, 'max_depth': 7, 'eta': 0.07277854847359362, 'gamma': 0.011597563866500007, 'grow_policy': 'depthwise', 'subsample': 0.6404024286326173, 'colsample_bytree': 0.6976986267254425}. Best is trial 13 with value: 0.8029629629629631.\n",
      "[I 2024-02-21 23:45:48,108] Trial 70 finished with value: 0.7644444444444445 and parameters: {'lambda': 0.018151910055321237, 'alpha': 0.008770408750160816, 'max_depth': 6, 'eta': 0.03649309091195271, 'gamma': 0.02555363142990016, 'grow_policy': 'depthwise', 'subsample': 0.8362345620666713, 'colsample_bytree': 0.7149247352941853}. Best is trial 13 with value: 0.8029629629629631.\n",
      "[I 2024-02-21 23:45:48,238] Trial 71 finished with value: 0.7629629629629631 and parameters: {'lambda': 0.03134630713122391, 'alpha': 0.01502036673640444, 'max_depth': 5, 'eta': 0.04740439317506813, 'gamma': 0.3979904902608134, 'grow_policy': 'depthwise', 'subsample': 0.5037689974105536, 'colsample_bytree': 0.8645387142979288}. Best is trial 13 with value: 0.8029629629629631.\n",
      "[I 2024-02-21 23:45:48,353] Trial 72 finished with value: 0.7629629629629631 and parameters: {'lambda': 0.0013635214218773652, 'alpha': 0.04097389378543425, 'max_depth': 5, 'eta': 0.057255153117896404, 'gamma': 0.0023277603038115765, 'grow_policy': 'depthwise', 'subsample': 0.5571853473039571, 'colsample_bytree': 0.826904879509847}. Best is trial 13 with value: 0.8029629629629631.\n",
      "[I 2024-02-21 23:45:48,453] Trial 73 finished with value: 0.7629629629629631 and parameters: {'lambda': 0.0026547223209095034, 'alpha': 0.018187527847503358, 'max_depth': 6, 'eta': 0.02966376625633416, 'gamma': 0.10380743254211496, 'grow_policy': 'depthwise', 'subsample': 0.5273416498278799, 'colsample_bytree': 0.775827903149358}. Best is trial 13 with value: 0.8029629629629631.\n",
      "[I 2024-02-21 23:45:48,569] Trial 74 finished with value: 0.7844444444444445 and parameters: {'lambda': 0.09366314457274307, 'alpha': 0.06006983027438655, 'max_depth': 6, 'eta': 0.041887726091003746, 'gamma': 0.13423540694861552, 'grow_policy': 'depthwise', 'subsample': 0.5153106209165714, 'colsample_bytree': 0.7995394561528923}. Best is trial 13 with value: 0.8029629629629631.\n",
      "[I 2024-02-21 23:45:48,669] Trial 75 finished with value: 0.8029629629629631 and parameters: {'lambda': 0.11175364148251148, 'alpha': 0.123708903041056, 'max_depth': 6, 'eta': 0.04254692244259601, 'gamma': 0.12696194795015292, 'grow_policy': 'depthwise', 'subsample': 0.5160625875798862, 'colsample_bytree': 0.7969241503451879}. Best is trial 13 with value: 0.8029629629629631.\n",
      "[I 2024-02-21 23:45:48,802] Trial 76 finished with value: 0.7629629629629631 and parameters: {'lambda': 0.20531256619488567, 'alpha': 0.12469662710706703, 'max_depth': 7, 'eta': 0.032102467906963104, 'gamma': 0.05334060163272597, 'grow_policy': 'depthwise', 'subsample': 0.5678249455769311, 'colsample_bytree': 0.7426850441694497}. Best is trial 13 with value: 0.8029629629629631.\n",
      "[I 2024-02-21 23:45:48,898] Trial 77 finished with value: 0.7644444444444445 and parameters: {'lambda': 0.1426989962792026, 'alpha': 0.03232373171130735, 'max_depth': 6, 'eta': 0.09802009051918249, 'gamma': 0.1738846936794308, 'grow_policy': 'depthwise', 'subsample': 0.8039596764174668, 'colsample_bytree': 0.9035631669800831}. Best is trial 13 with value: 0.8029629629629631.\n",
      "[I 2024-02-21 23:45:48,997] Trial 78 finished with value: 0.76 and parameters: {'lambda': 0.011386490441783888, 'alpha': 0.0014233361370338958, 'max_depth': 6, 'eta': 0.0041319867770627326, 'gamma': 0.021540738494692544, 'grow_policy': 'depthwise', 'subsample': 0.5416591627717939, 'colsample_bytree': 0.8439739622696274}. Best is trial 13 with value: 0.8029629629629631.\n",
      "[I 2024-02-21 23:45:49,102] Trial 79 finished with value: 0.782962962962963 and parameters: {'lambda': 0.001847621517045104, 'alpha': 0.0701507538873925, 'max_depth': 5, 'eta': 0.070429606910459, 'gamma': 0.2369938484499043, 'grow_policy': 'depthwise', 'subsample': 0.7122015695236869, 'colsample_bytree': 0.7281124751170155}. Best is trial 13 with value: 0.8029629629629631.\n",
      "[I 2024-02-21 23:45:49,204] Trial 80 finished with value: 0.7629629629629631 and parameters: {'lambda': 0.0036417725466012596, 'alpha': 0.009291174133835404, 'max_depth': 8, 'eta': 0.05921640231157307, 'gamma': 0.07040994997471559, 'grow_policy': 'lossguide', 'subsample': 0.5887145638039307, 'colsample_bytree': 0.7589485110041032}. Best is trial 13 with value: 0.8029629629629631.\n",
      "[I 2024-02-21 23:45:49,303] Trial 81 finished with value: 0.7644444444444445 and parameters: {'lambda': 0.09232945215201545, 'alpha': 0.05173756500208166, 'max_depth': 6, 'eta': 0.04071787342262637, 'gamma': 0.1346375056815373, 'grow_policy': 'depthwise', 'subsample': 0.5085412350980862, 'colsample_bytree': 0.8067055743109048}. Best is trial 13 with value: 0.8029629629629631.\n",
      "[I 2024-02-21 23:45:49,442] Trial 82 finished with value: 0.7644444444444445 and parameters: {'lambda': 0.08814571097050754, 'alpha': 0.2000094064382395, 'max_depth': 6, 'eta': 0.04553075505448485, 'gamma': 0.30577929101130485, 'grow_policy': 'depthwise', 'subsample': 0.5172622604711933, 'colsample_bytree': 0.7962193141535203}. Best is trial 13 with value: 0.8029629629629631.\n",
      "[I 2024-02-21 23:45:49,552] Trial 83 finished with value: 0.7644444444444445 and parameters: {'lambda': 0.048090018909628655, 'alpha': 0.06404049281590662, 'max_depth': 6, 'eta': 0.022000177614107098, 'gamma': 0.463688036831003, 'grow_policy': 'depthwise', 'subsample': 0.523774928098515, 'colsample_bytree': 0.8268184155152757}. Best is trial 13 with value: 0.8029629629629631.\n",
      "[I 2024-02-21 23:45:49,662] Trial 84 finished with value: 0.7629629629629631 and parameters: {'lambda': 0.27205491264912784, 'alpha': 0.028170171171663646, 'max_depth': 7, 'eta': 0.03648049467529786, 'gamma': 0.032208223124369675, 'grow_policy': 'depthwise', 'subsample': 0.5496953680805636, 'colsample_bytree': 0.7782014295795218}. Best is trial 13 with value: 0.8029629629629631.\n",
      "[I 2024-02-21 23:45:49,761] Trial 85 finished with value: 0.7629629629629631 and parameters: {'lambda': 0.11259997795004026, 'alpha': 0.09515906230850617, 'max_depth': 6, 'eta': 0.04194557036481438, 'gamma': 0.12988060869252127, 'grow_policy': 'depthwise', 'subsample': 0.7451955119312038, 'colsample_bytree': 0.6816060059950847}. Best is trial 13 with value: 0.8029629629629631.\n",
      "[I 2024-02-21 23:45:49,903] Trial 86 finished with value: 0.7844444444444445 and parameters: {'lambda': 0.0014337199806349489, 'alpha': 0.005408799543557209, 'max_depth': 5, 'eta': 0.05089527627044078, 'gamma': 0.21838718846474187, 'grow_policy': 'depthwise', 'subsample': 0.8175274250784217, 'colsample_bytree': 0.8143942946170825}. Best is trial 13 with value: 0.8029629629629631.\n",
      "[I 2024-02-21 23:45:50,089] Trial 87 finished with value: 0.7414814814814815 and parameters: {'lambda': 0.07407349329852642, 'alpha': 6.600899788601713, 'max_depth': 7, 'eta': 0.02678077264177059, 'gamma': 0.09894441064896506, 'grow_policy': 'depthwise', 'subsample': 0.7887803845074688, 'colsample_bytree': 0.8653767662784015}. Best is trial 13 with value: 0.8029629629629631.\n",
      "[I 2024-02-21 23:45:50,193] Trial 88 finished with value: 0.7844444444444445 and parameters: {'lambda': 0.007620916382158013, 'alpha': 0.13986455916331492, 'max_depth': 6, 'eta': 0.03459643695365997, 'gamma': 1.665134369281551, 'grow_policy': 'depthwise', 'subsample': 0.7693060385979897, 'colsample_bytree': 0.7984300910210828}. Best is trial 13 with value: 0.8029629629629631.\n",
      "[I 2024-02-21 23:45:50,324] Trial 89 finished with value: 0.7629629629629631 and parameters: {'lambda': 0.0022468939174962194, 'alpha': 0.03828313557539242, 'max_depth': 5, 'eta': 0.05437541044085856, 'gamma': 0.7299750984653038, 'grow_policy': 'lossguide', 'subsample': 0.5348605440614659, 'colsample_bytree': 0.8505775446349937}. Best is trial 13 with value: 0.8029629629629631.\n",
      "[I 2024-02-21 23:45:50,454] Trial 90 finished with value: 0.782962962962963 and parameters: {'lambda': 0.005155010249175127, 'alpha': 0.0038930575944087836, 'max_depth': 6, 'eta': 0.07836860721534614, 'gamma': 1.1041827264249622, 'grow_policy': 'depthwise', 'subsample': 0.6235388188830897, 'colsample_bytree': 0.7461918565464798}. Best is trial 13 with value: 0.8029629629629631.\n",
      "[I 2024-02-21 23:45:50,560] Trial 91 finished with value: 0.782962962962963 and parameters: {'lambda': 0.0013683933367835805, 'alpha': 0.005506814125585102, 'max_depth': 5, 'eta': 0.05083245521183197, 'gamma': 0.20485030932686965, 'grow_policy': 'depthwise', 'subsample': 0.8118203149298683, 'colsample_bytree': 0.8117260041416714}. Best is trial 13 with value: 0.8029629629629631.\n",
      "[I 2024-02-21 23:45:50,699] Trial 92 finished with value: 0.7844444444444445 and parameters: {'lambda': 0.0012745722155963345, 'alpha': 0.023261212622838055, 'max_depth': 5, 'eta': 0.0397916211287575, 'gamma': 0.3252725572775435, 'grow_policy': 'depthwise', 'subsample': 0.8182120201334295, 'colsample_bytree': 0.7877384395809199}. Best is trial 13 with value: 0.8029629629629631.\n",
      "[I 2024-02-21 23:45:50,977] Trial 93 finished with value: 0.7644444444444445 and parameters: {'lambda': 0.17079457459327577, 'alpha': 0.0022498993699166868, 'max_depth': 5, 'eta': 0.06233244154855204, 'gamma': 0.15234624756490334, 'grow_policy': 'depthwise', 'subsample': 0.8268774210384925, 'colsample_bytree': 0.7648928794423431}. Best is trial 13 with value: 0.8029629629629631.\n",
      "[I 2024-02-21 23:45:51,071] Trial 94 finished with value: 0.8029629629629631 and parameters: {'lambda': 0.0016064299586434601, 'alpha': 0.008147831571414434, 'max_depth': 4, 'eta': 0.05031955670420738, 'gamma': 0.2414987287472846, 'grow_policy': 'depthwise', 'subsample': 0.8521944178455121, 'colsample_bytree': 0.8345445073653479}. Best is trial 13 with value: 0.8029629629629631.\n",
      "[I 2024-02-21 23:45:51,163] Trial 95 finished with value: 0.7444444444444445 and parameters: {'lambda': 0.003286335180155119, 'alpha': 0.012675153790864138, 'max_depth': 4, 'eta': 0.04569964249608291, 'gamma': 0.49112777681817904, 'grow_policy': 'depthwise', 'subsample': 0.9136562234861402, 'colsample_bytree': 0.8341294482137045}. Best is trial 13 with value: 0.8029629629629631.\n",
      "[I 2024-02-21 23:45:51,354] Trial 96 finished with value: 0.7644444444444445 and parameters: {'lambda': 0.0018711133471170148, 'alpha': 0.0841386161040592, 'max_depth': 4, 'eta': 0.0303572220660506, 'gamma': 0.2686117561015872, 'grow_policy': 'depthwise', 'subsample': 0.8756434907376602, 'colsample_bytree': 0.7851436620948411}. Best is trial 13 with value: 0.8029629629629631.\n",
      "[I 2024-02-21 23:45:51,533] Trial 97 finished with value: 0.7629629629629631 and parameters: {'lambda': 0.0010231701138957137, 'alpha': 0.019387419195512005, 'max_depth': 3, 'eta': 0.06092060413338287, 'gamma': 0.6095616052393001, 'grow_policy': 'depthwise', 'subsample': 0.8501976001524214, 'colsample_bytree': 0.8744721652395562}. Best is trial 13 with value: 0.8029629629629631.\n",
      "[I 2024-02-21 23:45:51,651] Trial 98 finished with value: 0.7644444444444445 and parameters: {'lambda': 0.0027195790402727107, 'alpha': 0.0077276097800706494, 'max_depth': 4, 'eta': 0.02443749108657578, 'gamma': 0.41422146495042356, 'grow_policy': 'lossguide', 'subsample': 0.7938617045756806, 'colsample_bytree': 0.8320828141523906}. Best is trial 13 with value: 0.8029629629629631.\n",
      "[I 2024-02-21 23:45:51,753] Trial 99 finished with value: 0.7814814814814816 and parameters: {'lambda': 0.508762178813003, 'alpha': 0.05650259356996637, 'max_depth': 4, 'eta': 0.08756516434853212, 'gamma': 0.850741769077719, 'grow_policy': 'depthwise', 'subsample': 0.5006450395490137, 'colsample_bytree': 0.5168854321797249}. Best is trial 13 with value: 0.8029629629629631.\n",
      "[I 2024-02-21 23:45:51,851] Trial 100 finished with value: 0.7629629629629631 and parameters: {'lambda': 0.0017928829541434953, 'alpha': 0.01567926364748545, 'max_depth': 3, 'eta': 0.034882250164873126, 'gamma': 0.06996796105694086, 'grow_policy': 'depthwise', 'subsample': 0.7809674872608563, 'colsample_bytree': 0.8060501190314467}. Best is trial 13 with value: 0.8029629629629631.\n",
      "[I 2024-02-21 23:45:51,978] Trial 101 finished with value: 0.7644444444444445 and parameters: {'lambda': 0.0015536290442418562, 'alpha': 0.005482533936300616, 'max_depth': 5, 'eta': 0.04979226635500421, 'gamma': 0.24054022653576285, 'grow_policy': 'depthwise', 'subsample': 0.8037221331417536, 'colsample_bytree': 0.8110887588583116}. Best is trial 13 with value: 0.8029629629629631.\n",
      "[I 2024-02-21 23:45:52,122] Trial 102 finished with value: 0.7844444444444445 and parameters: {'lambda': 0.001296481493957254, 'alpha': 0.009578168408067345, 'max_depth': 5, 'eta': 0.053471411077538965, 'gamma': 0.1825371337032042, 'grow_policy': 'depthwise', 'subsample': 0.8363605420737905, 'colsample_bytree': 0.8178804590521886}. Best is trial 13 with value: 0.8029629629629631.\n",
      "[I 2024-02-21 23:45:52,222] Trial 103 finished with value: 0.782962962962963 and parameters: {'lambda': 0.0023283307363411707, 'alpha': 0.028365169939061283, 'max_depth': 6, 'eta': 0.04268236386366739, 'gamma': 0.12221650868833185, 'grow_policy': 'depthwise', 'subsample': 0.7626996149109121, 'colsample_bytree': 0.7079220305819255}. Best is trial 13 with value: 0.8029629629629631.\n",
      "[I 2024-02-21 23:45:52,319] Trial 104 finished with value: 0.7814814814814816 and parameters: {'lambda': 0.004254208697326577, 'alpha': 0.002823041255960802, 'max_depth': 4, 'eta': 0.068445922829048, 'gamma': 0.34214732723713115, 'grow_policy': 'depthwise', 'subsample': 0.5215577102855602, 'colsample_bytree': 0.7521083236734095}. Best is trial 13 with value: 0.8029629629629631.\n",
      "[I 2024-02-21 23:45:52,454] Trial 105 finished with value: 0.7444444444444445 and parameters: {'lambda': 0.04021658278498286, 'alpha': 0.006485305503111339, 'max_depth': 6, 'eta': 0.03880108885294008, 'gamma': 0.08768589630869135, 'grow_policy': 'depthwise', 'subsample': 0.858748198691706, 'colsample_bytree': 0.8545167635228083}. Best is trial 13 with value: 0.8029629629629631.\n",
      "[I 2024-02-21 23:45:52,561] Trial 106 finished with value: 0.7844444444444445 and parameters: {'lambda': 0.0011840844398995334, 'alpha': 0.011118111601318748, 'max_depth': 5, 'eta': 0.0488884839553097, 'gamma': 0.2154173710920223, 'grow_policy': 'depthwise', 'subsample': 0.7986222918840381, 'colsample_bytree': 0.795928467029418}. Best is trial 13 with value: 0.8029629629629631.\n",
      "[I 2024-02-21 23:45:52,667] Trial 107 finished with value: 0.7444444444444445 and parameters: {'lambda': 0.0015332422411031754, 'alpha': 0.04427775918984575, 'max_depth': 5, 'eta': 0.05551662910948333, 'gamma': 0.1619127584604426, 'grow_policy': 'depthwise', 'subsample': 0.8781921704193875, 'colsample_bytree': 0.8218504603619995}. Best is trial 13 with value: 0.8029629629629631.\n",
      "[I 2024-02-21 23:45:52,776] Trial 108 finished with value: 0.7629629629629631 and parameters: {'lambda': 0.03144180694858046, 'alpha': 0.004569695345648299, 'max_depth': 6, 'eta': 0.07609474544984587, 'gamma': 0.6216516137917264, 'grow_policy': 'lossguide', 'subsample': 0.8218028321903561, 'colsample_bytree': 0.7721104211220802}. Best is trial 13 with value: 0.8029629629629631.\n",
      "[I 2024-02-21 23:45:52,874] Trial 109 finished with value: 0.7244444444444444 and parameters: {'lambda': 0.006391345170590258, 'alpha': 0.021845340237963605, 'max_depth': 4, 'eta': 0.017015495980026094, 'gamma': 0.44596256282779695, 'grow_policy': 'depthwise', 'subsample': 0.8330818981496483, 'colsample_bytree': 0.7319817308936653}. Best is trial 13 with value: 0.8029629629629631.\n",
      "[I 2024-02-21 23:45:53,091] Trial 110 finished with value: 0.74 and parameters: {'lambda': 0.0629216766706788, 'alpha': 0.014741260216670138, 'max_depth': 6, 'eta': 0.0027941341834822053, 'gamma': 1.3035038113661992, 'grow_policy': 'depthwise', 'subsample': 0.7348303135517091, 'colsample_bytree': 0.7841234745640777}. Best is trial 13 with value: 0.8029629629629631.\n",
      "[I 2024-02-21 23:45:53,194] Trial 111 finished with value: 0.7444444444444445 and parameters: {'lambda': 0.008576073562336948, 'alpha': 0.12443739996464837, 'max_depth': 6, 'eta': 0.034879872233436054, 'gamma': 0.8136982459265637, 'grow_policy': 'depthwise', 'subsample': 0.7614245280603886, 'colsample_bytree': 0.802721110608347}. Best is trial 13 with value: 0.8029629629629631.\n",
      "[I 2024-02-21 23:45:53,299] Trial 112 finished with value: 0.782962962962963 and parameters: {'lambda': 0.017554596058769977, 'alpha': 0.2432218303326901, 'max_depth': 6, 'eta': 0.032494100476461084, 'gamma': 1.6803150944989436, 'grow_policy': 'depthwise', 'subsample': 0.7717746513180792, 'colsample_bytree': 0.821021056007342}. Best is trial 13 with value: 0.8029629629629631.\n",
      "[I 2024-02-21 23:45:53,405] Trial 113 finished with value: 0.7444444444444445 and parameters: {'lambda': 0.003162595434566803, 'alpha': 0.14149437194376513, 'max_depth': 6, 'eta': 0.045047101091327604, 'gamma': 1.5148043880205802, 'grow_policy': 'depthwise', 'subsample': 0.8100011614270701, 'colsample_bytree': 0.8388063534457935}. Best is trial 13 with value: 0.8029629629629631.\n",
      "[I 2024-02-21 23:45:53,493] Trial 114 finished with value: 0.7429629629629629 and parameters: {'lambda': 0.12238161543700883, 'alpha': 0.4174453723951777, 'max_depth': 7, 'eta': 0.04032591562997805, 'gamma': 2.9640893572857587, 'grow_policy': 'depthwise', 'subsample': 0.780915508295273, 'colsample_bytree': 0.7979871362082482}. Best is trial 13 with value: 0.8029629629629631.\n",
      "[I 2024-02-21 23:45:53,599] Trial 115 finished with value: 0.7629629629629631 and parameters: {'lambda': 0.0020504489040990533, 'alpha': 0.16263330375493856, 'max_depth': 5, 'eta': 0.028407673746501695, 'gamma': 2.0201360433944093, 'grow_policy': 'depthwise', 'subsample': 0.7470021078705124, 'colsample_bytree': 0.7618965211608539}. Best is trial 13 with value: 0.8029629629629631.\n",
      "[I 2024-02-21 23:45:53,696] Trial 116 finished with value: 0.7629629629629631 and parameters: {'lambda': 0.0049970768357540055, 'alpha': 2.209097966078065, 'max_depth': 8, 'eta': 0.06306809805709941, 'gamma': 1.075762853515585, 'grow_policy': 'depthwise', 'subsample': 0.7943046618957755, 'colsample_bytree': 0.8453331297628143}. Best is trial 13 with value: 0.8029629629629631.\n",
      "[I 2024-02-21 23:45:53,804] Trial 117 finished with value: 0.782962962962963 and parameters: {'lambda': 0.002415498823280475, 'alpha': 0.001315934128138775, 'max_depth': 6, 'eta': 0.05048390533651516, 'gamma': 0.11304271312984301, 'grow_policy': 'depthwise', 'subsample': 0.7253149492266713, 'colsample_bytree': 0.7225332110461454}. Best is trial 13 with value: 0.8029629629629631.\n",
      "[I 2024-02-21 23:45:53,907] Trial 118 finished with value: 0.7629629629629631 and parameters: {'lambda': 0.024630162318498842, 'alpha': 0.7777786837020355, 'max_depth': 6, 'eta': 0.04336056339149909, 'gamma': 0.04398597994758663, 'grow_policy': 'lossguide', 'subsample': 0.679570554880384, 'colsample_bytree': 0.769048868379411}. Best is trial 13 with value: 0.8029629629629631.\n",
      "[I 2024-02-21 23:45:54,024] Trial 119 finished with value: 0.7644444444444445 and parameters: {'lambda': 1.2167477608209343, 'alpha': 0.007808309941505458, 'max_depth': 7, 'eta': 0.03781123052471859, 'gamma': 0.2748551802864451, 'grow_policy': 'depthwise', 'subsample': 0.7710672947033385, 'colsample_bytree': 0.8884175301628966}. Best is trial 13 with value: 0.8029629629629631.\n",
      "[I 2024-02-21 23:45:54,123] Trial 120 finished with value: 0.782962962962963 and parameters: {'lambda': 0.0039539694197873124, 'alpha': 0.01071463985772484, 'max_depth': 5, 'eta': 0.05744070739449599, 'gamma': 0.010351692293032134, 'grow_policy': 'depthwise', 'subsample': 0.5513949264381411, 'colsample_bytree': 0.7914758752230929}. Best is trial 13 with value: 0.8029629629629631.\n",
      "[I 2024-02-21 23:45:54,223] Trial 121 finished with value: 0.7844444444444445 and parameters: {'lambda': 0.0014474973820215627, 'alpha': 0.023787941733563387, 'max_depth': 5, 'eta': 0.033015784990106455, 'gamma': 0.36049348714757345, 'grow_policy': 'depthwise', 'subsample': 0.8226052113842718, 'colsample_bytree': 0.7797721093732817}. Best is trial 13 with value: 0.8029629629629631.\n",
      "[I 2024-02-21 23:45:54,326] Trial 122 finished with value: 0.5 and parameters: {'lambda': 0.001248533400941048, 'alpha': 0.08027619176632647, 'max_depth': 5, 'eta': 0.0010115681933238522, 'gamma': 0.5463460913675827, 'grow_policy': 'depthwise', 'subsample': 0.8430112685157996, 'colsample_bytree': 0.8140219786942954}. Best is trial 13 with value: 0.8029629629629631.\n",
      "[I 2024-02-21 23:45:54,454] Trial 123 finished with value: 0.7844444444444445 and parameters: {'lambda': 0.001136910144855813, 'alpha': 0.03481080482996859, 'max_depth': 5, 'eta': 0.04104156337226537, 'gamma': 0.3529055641504446, 'grow_policy': 'depthwise', 'subsample': 0.8025111981824358, 'colsample_bytree': 0.7912581638973863}. Best is trial 13 with value: 0.8029629629629631.\n",
      "[I 2024-02-21 23:45:54,552] Trial 124 finished with value: 0.7844444444444445 and parameters: {'lambda': 0.001800212918660473, 'alpha': 0.01719124532462226, 'max_depth': 5, 'eta': 0.047990739655594326, 'gamma': 0.001180003154950043, 'grow_policy': 'depthwise', 'subsample': 0.8183663172931525, 'colsample_bytree': 0.8288890774792762}. Best is trial 13 with value: 0.8029629629629631.\n",
      "[I 2024-02-21 23:45:54,659] Trial 125 finished with value: 0.782962962962963 and parameters: {'lambda': 0.011474292617299592, 'alpha': 0.03060252950136191, 'max_depth': 4, 'eta': 0.037391951305994875, 'gamma': 0.2117804481074425, 'grow_policy': 'depthwise', 'subsample': 0.531784897862201, 'colsample_bytree': 0.7398154401293005}. Best is trial 13 with value: 0.8029629629629631.\n",
      "[I 2024-02-21 23:45:54,754] Trial 126 finished with value: 0.7629629629629631 and parameters: {'lambda': 0.002874145102860766, 'alpha': 0.012822726457989276, 'max_depth': 6, 'eta': 0.0680440212016334, 'gamma': 0.3282772965000939, 'grow_policy': 'depthwise', 'subsample': 0.51468994210098, 'colsample_bytree': 0.8026150666750544}. Best is trial 13 with value: 0.8029629629629631.\n",
      "[I 2024-02-21 23:45:54,853] Trial 127 finished with value: 0.7629629629629631 and parameters: {'lambda': 0.006998359839724464, 'alpha': 0.061120712882433696, 'max_depth': 5, 'eta': 0.053676953010066496, 'gamma': 0.15143960014943836, 'grow_policy': 'depthwise', 'subsample': 0.7846935664474716, 'colsample_bytree': 0.7542353280019064}. Best is trial 13 with value: 0.8029629629629631.\n",
      "[I 2024-02-21 23:45:54,986] Trial 128 finished with value: 0.7444444444444445 and parameters: {'lambda': 0.16749839940510275, 'alpha': 0.02354052680191023, 'max_depth': 6, 'eta': 0.02989438243932161, 'gamma': 0.24904072397021768, 'grow_policy': 'depthwise', 'subsample': 0.8285083275446075, 'colsample_bytree': 0.8586531284019118}. Best is trial 13 with value: 0.8029629629629631.\n",
      "[I 2024-02-21 23:45:55,124] Trial 129 finished with value: 0.8029629629629631 and parameters: {'lambda': 0.25275216697271596, 'alpha': 0.24531357856284156, 'max_depth': 4, 'eta': 0.04411189432235246, 'gamma': 0.7143074316887956, 'grow_policy': 'lossguide', 'subsample': 0.7526515320909164, 'colsample_bytree': 0.7872019091665456}. Best is trial 13 with value: 0.8029629629629631.\n",
      "[I 2024-02-21 23:45:55,237] Trial 130 finished with value: 0.7844444444444445 and parameters: {'lambda': 0.37274518386183314, 'alpha': 0.2682004223483171, 'max_depth': 4, 'eta': 0.044654223510105805, 'gamma': 0.7082531037137919, 'grow_policy': 'lossguide', 'subsample': 0.6995962654869748, 'colsample_bytree': 0.8383619671850773}. Best is trial 13 with value: 0.8029629629629631.\n",
      "[I 2024-02-21 23:45:55,351] Trial 131 finished with value: 0.782962962962963 and parameters: {'lambda': 0.0010210220524733294, 'alpha': 0.1104322035686195, 'max_depth': 4, 'eta': 0.03856536300791858, 'gamma': 0.5052249102750368, 'grow_policy': 'lossguide', 'subsample': 0.7616678709968079, 'colsample_bytree': 0.7720858670495866}. Best is trial 13 with value: 0.8029629629629631.\n",
      "[I 2024-02-21 23:45:55,469] Trial 132 finished with value: 0.7629629629629631 and parameters: {'lambda': 0.2699942404344935, 'alpha': 0.16009116774366722, 'max_depth': 4, 'eta': 0.03396261762758165, 'gamma': 0.9182003502817284, 'grow_policy': 'lossguide', 'subsample': 0.7512686137582232, 'colsample_bytree': 0.7867917300438974}. Best is trial 13 with value: 0.8029629629629631.\n",
      "[I 2024-02-21 23:45:55,631] Trial 133 finished with value: 0.8029629629629631 and parameters: {'lambda': 0.0015740187222869405, 'alpha': 0.30426218810565525, 'max_depth': 3, 'eta': 0.05973775700662731, 'gamma': 1.224849744957012, 'grow_policy': 'lossguide', 'subsample': 0.7970326430662268, 'colsample_bytree': 0.8136961075048611}. Best is trial 13 with value: 0.8029629629629631.\n",
      "[I 2024-02-21 23:45:55,793] Trial 134 finished with value: 0.7429629629629629 and parameters: {'lambda': 0.0015476663323258039, 'alpha': 0.3515436582388562, 'max_depth': 3, 'eta': 0.06073847463181339, 'gamma': 1.1333833755254155, 'grow_policy': 'lossguide', 'subsample': 0.7761856132909325, 'colsample_bytree': 0.8220120941771989}. Best is trial 13 with value: 0.8029629629629631.\n",
      "[I 2024-02-21 23:45:55,918] Trial 135 finished with value: 0.7429629629629629 and parameters: {'lambda': 0.002101454132714995, 'alpha': 0.1999359822305473, 'max_depth': 4, 'eta': 0.048153089468929995, 'gamma': 1.6158197819395865, 'grow_policy': 'lossguide', 'subsample': 0.7653107079890553, 'colsample_bytree': 0.8074300809335798}. Best is trial 13 with value: 0.8029629629629631.\n",
      "[I 2024-02-21 23:45:56,028] Trial 136 finished with value: 0.7629629629629631 and parameters: {'lambda': 0.08492155485861315, 'alpha': 0.453287797758172, 'max_depth': 3, 'eta': 0.0827461531853601, 'gamma': 2.3605196639032924, 'grow_policy': 'lossguide', 'subsample': 0.7981644520956133, 'colsample_bytree': 0.8699571597966089}. Best is trial 13 with value: 0.8029629629629631.\n",
      "[I 2024-02-21 23:45:56,137] Trial 137 finished with value: 0.7414814814814815 and parameters: {'lambda': 0.002590600095235269, 'alpha': 0.29213931823713085, 'max_depth': 3, 'eta': 0.006266339203389181, 'gamma': 3.756341620873312, 'grow_policy': 'lossguide', 'subsample': 0.784886622198654, 'colsample_bytree': 0.8131092386692536}. Best is trial 13 with value: 0.8029629629629631.\n",
      "[I 2024-02-21 23:45:56,251] Trial 138 finished with value: 0.7429629629629629 and parameters: {'lambda': 0.2558825579427043, 'alpha': 1.2275911471017242, 'max_depth': 3, 'eta': 0.07233812119765824, 'gamma': 1.3149969407980433, 'grow_policy': 'lossguide', 'subsample': 0.8097255452272869, 'colsample_bytree': 0.8501818160257223}. Best is trial 13 with value: 0.8029629629629631.\n",
      "[I 2024-02-21 23:45:56,355] Trial 139 finished with value: 0.8029629629629631 and parameters: {'lambda': 0.001728031105959724, 'alpha': 0.5689509692470139, 'max_depth': 9, 'eta': 0.055506553835811025, 'gamma': 0.7095253870710189, 'grow_policy': 'lossguide', 'subsample': 0.5000761071850993, 'colsample_bytree': 0.7954317488992692}. Best is trial 13 with value: 0.8029629629629631.\n",
      "[I 2024-02-21 23:45:56,468] Trial 140 finished with value: 0.7629629629629631 and parameters: {'lambda': 0.001782721133119582, 'alpha': 0.5319561344034891, 'max_depth': 9, 'eta': 0.056469197313054824, 'gamma': 0.617828825660964, 'grow_policy': 'lossguide', 'subsample': 0.5210608064883635, 'colsample_bytree': 0.6901353082160187}. Best is trial 13 with value: 0.8029629629629631.\n",
      "[I 2024-02-21 23:45:56,572] Trial 141 finished with value: 0.7814814814814816 and parameters: {'lambda': 0.003400920094418395, 'alpha': 0.6865433608034799, 'max_depth': 6, 'eta': 0.05139683612002867, 'gamma': 0.7985773250514511, 'grow_policy': 'lossguide', 'subsample': 0.5090856795290596, 'colsample_bytree': 0.7991138640084167}. Best is trial 13 with value: 0.8029629629629631.\n",
      "[I 2024-02-21 23:45:56,681] Trial 142 finished with value: 0.782962962962963 and parameters: {'lambda': 0.002044940576360602, 'alpha': 0.2325898962510205, 'max_depth': 8, 'eta': 0.06470102206506177, 'gamma': 1.0744312525961548, 'grow_policy': 'lossguide', 'subsample': 0.5046383114454134, 'colsample_bytree': 0.8292390790684616}. Best is trial 13 with value: 0.8029629629629631.\n",
      "[I 2024-02-21 23:45:56,791] Trial 143 finished with value: 0.782962962962963 and parameters: {'lambda': 0.001495692017028254, 'alpha': 0.9037793275897804, 'max_depth': 6, 'eta': 0.046663024196149455, 'gamma': 0.9218555527469708, 'grow_policy': 'lossguide', 'subsample': 0.5377092289453567, 'colsample_bytree': 0.7966243723052204}. Best is trial 13 with value: 0.8029629629629631.\n",
      "[I 2024-02-21 23:45:56,904] Trial 144 finished with value: 0.7444444444444445 and parameters: {'lambda': 0.05556448504836687, 'alpha': 0.4000851007035195, 'max_depth': 9, 'eta': 0.04260568572733579, 'gamma': 0.4225208385078042, 'grow_policy': 'lossguide', 'subsample': 0.9964583785237686, 'colsample_bytree': 0.7791906499944997}. Best is trial 13 with value: 0.8029629629629631.\n",
      "[I 2024-02-21 23:45:57,050] Trial 145 finished with value: 0.782962962962963 and parameters: {'lambda': 0.0016743720443914759, 'alpha': 0.11221783673536069, 'max_depth': 4, 'eta': 0.05677899306882732, 'gamma': 0.003796358999343633, 'grow_policy': 'lossguide', 'subsample': 0.5176340679924761, 'colsample_bytree': 0.8214795415854808}. Best is trial 13 with value: 0.8029629629629631.\n",
      "[I 2024-02-21 23:45:57,162] Trial 146 finished with value: 0.7429629629629629 and parameters: {'lambda': 0.603748487115852, 'alpha': 0.5644438620813613, 'max_depth': 6, 'eta': 0.052697795751207206, 'gamma': 0.7647791280742742, 'grow_policy': 'lossguide', 'subsample': 0.7905934371735497, 'colsample_bytree': 0.8060280601673597}. Best is trial 13 with value: 0.8029629629629631.\n",
      "[I 2024-02-21 23:45:57,265] Trial 147 finished with value: 0.7629629629629631 and parameters: {'lambda': 0.001274253258662356, 'alpha': 0.32107727132727876, 'max_depth': 3, 'eta': 0.07397248996324976, 'gamma': 0.17939206661433135, 'grow_policy': 'depthwise', 'subsample': 0.7545781502370339, 'colsample_bytree': 0.7623089962294987}. Best is trial 13 with value: 0.8029629629629631.\n",
      "[I 2024-02-21 23:45:57,373] Trial 148 finished with value: 0.8029629629629631 and parameters: {'lambda': 0.0024737625680285222, 'alpha': 0.9207988113850442, 'max_depth': 9, 'eta': 0.06090300343638709, 'gamma': 0.6741387396968169, 'grow_policy': 'lossguide', 'subsample': 0.5285238000256995, 'colsample_bytree': 0.8129032041369119}. Best is trial 13 with value: 0.8029629629629631.\n",
      "[I 2024-02-21 23:45:57,481] Trial 149 finished with value: 0.8014814814814816 and parameters: {'lambda': 0.002231848796720449, 'alpha': 1.0680453238307412, 'max_depth': 9, 'eta': 0.06586884201837809, 'gamma': 0.5652589617163427, 'grow_policy': 'lossguide', 'subsample': 0.5290697881407503, 'colsample_bytree': 0.8349622245648163}. Best is trial 13 with value: 0.8029629629629631.\n",
      "[I 2024-02-21 23:45:57,585] Trial 150 finished with value: 0.722962962962963 and parameters: {'lambda': 0.002486374270299294, 'alpha': 1.511489213907041, 'max_depth': 9, 'eta': 0.0667445695394604, 'gamma': 0.5645700149121127, 'grow_policy': 'lossguide', 'subsample': 0.5470893804818944, 'colsample_bytree': 0.8381432255216708}. Best is trial 13 with value: 0.8029629629629631.\n",
      "[I 2024-02-21 23:45:57,695] Trial 151 finished with value: 0.782962962962963 and parameters: {'lambda': 0.002880064576792572, 'alpha': 0.876686335149575, 'max_depth': 9, 'eta': 0.061347451165976556, 'gamma': 0.678250356539884, 'grow_policy': 'lossguide', 'subsample': 0.5291956043032813, 'colsample_bytree': 0.8469487468247606}. Best is trial 13 with value: 0.8029629629629631.\n",
      "[I 2024-02-21 23:45:57,796] Trial 152 finished with value: 0.8214814814814816 and parameters: {'lambda': 0.0020743861420942557, 'alpha': 1.105454432559764, 'max_depth': 9, 'eta': 0.08666834016453341, 'gamma': 0.46530162823958787, 'grow_policy': 'lossguide', 'subsample': 0.5002099005954221, 'colsample_bytree': 0.8175770778151775}. Best is trial 152 with value: 0.8214814814814816.\n",
      "[I 2024-02-21 23:45:57,902] Trial 153 finished with value: 0.8414814814814815 and parameters: {'lambda': 0.002228273294833405, 'alpha': 1.0878074115671539, 'max_depth': 9, 'eta': 0.092341735217733, 'gamma': 0.4792235660479775, 'grow_policy': 'lossguide', 'subsample': 0.5015376109722444, 'colsample_bytree': 0.8298918585470988}. Best is trial 153 with value: 0.8414814814814815.\n",
      "[I 2024-02-21 23:45:57,997] Trial 154 finished with value: 0.8014814814814816 and parameters: {'lambda': 0.002197781181414654, 'alpha': 1.0121236146062211, 'max_depth': 9, 'eta': 0.09489355960335677, 'gamma': 0.4998146581550851, 'grow_policy': 'lossguide', 'subsample': 0.5106338160503574, 'colsample_bytree': 0.8297936767933346}. Best is trial 153 with value: 0.8414814814814815.\n",
      "[I 2024-02-21 23:45:58,101] Trial 155 finished with value: 0.7614814814814815 and parameters: {'lambda': 0.003859385491927372, 'alpha': 1.4254096932559122, 'max_depth': 9, 'eta': 0.09026418216472691, 'gamma': 0.4241989473495762, 'grow_policy': 'lossguide', 'subsample': 0.5685726571894332, 'colsample_bytree': 0.8555633202630384}. Best is trial 153 with value: 0.8414814814814815.\n",
      "[I 2024-02-21 23:45:58,203] Trial 156 finished with value: 0.782962962962963 and parameters: {'lambda': 0.0018704295039976783, 'alpha': 2.351737697452127, 'max_depth': 9, 'eta': 0.08072938637286484, 'gamma': 0.664321528242705, 'grow_policy': 'lossguide', 'subsample': 0.5279329205381792, 'colsample_bytree': 0.8181992684584067}. Best is trial 153 with value: 0.8414814814814815.\n",
      "[I 2024-02-21 23:45:58,341] Trial 157 finished with value: 0.8014814814814816 and parameters: {'lambda': 0.0025031114646446406, 'alpha': 0.6662289108498942, 'max_depth': 9, 'eta': 0.09828358434543527, 'gamma': 0.503893992735877, 'grow_policy': 'lossguide', 'subsample': 0.5051161099946285, 'colsample_bytree': 0.834314724241374}. Best is trial 153 with value: 0.8414814814814815.\n",
      "[I 2024-02-21 23:45:58,449] Trial 158 finished with value: 0.7629629629629631 and parameters: {'lambda': 0.0033022825289008295, 'alpha': 1.280318814233446, 'max_depth': 9, 'eta': 0.08027182339414145, 'gamma': 0.8835153681476248, 'grow_policy': 'lossguide', 'subsample': 0.5576104095934842, 'colsample_bytree': 0.8417551942490034}. Best is trial 153 with value: 0.8414814814814815.\n",
      "[I 2024-02-21 23:45:58,551] Trial 159 finished with value: 0.782962962962963 and parameters: {'lambda': 0.0021673604520430143, 'alpha': 1.8271909086907347, 'max_depth': 9, 'eta': 0.0716218027326603, 'gamma': 0.6007786900058245, 'grow_policy': 'lossguide', 'subsample': 0.5017912190965611, 'colsample_bytree': 0.8246989974591734}. Best is trial 153 with value: 0.8414814814814815.\n",
      "[I 2024-02-21 23:45:58,662] Trial 160 finished with value: 0.8014814814814816 and parameters: {'lambda': 0.0011486783281685438, 'alpha': 0.9899094736156627, 'max_depth': 9, 'eta': 0.08527846011552517, 'gamma': 0.40103347692851793, 'grow_policy': 'lossguide', 'subsample': 0.538601520236675, 'colsample_bytree': 0.7083240744158028}. Best is trial 153 with value: 0.8414814814814815.\n",
      "[I 2024-02-21 23:45:58,774] Trial 161 finished with value: 0.7844444444444445 and parameters: {'lambda': 0.002178644559905218, 'alpha': 0.7571823193074038, 'max_depth': 9, 'eta': 0.09155539500372432, 'gamma': 0.4998003258052578, 'grow_policy': 'lossguide', 'subsample': 0.5140910003755773, 'colsample_bytree': 0.8317520988905813}. Best is trial 153 with value: 0.8414814814814815.\n",
      "[I 2024-02-21 23:45:58,868] Trial 162 finished with value: 0.7444444444444445 and parameters: {'lambda': 0.0015580521315604087, 'alpha': 1.0713301905771946, 'max_depth': 9, 'eta': 0.09613099854196766, 'gamma': 0.5349017819029266, 'grow_policy': 'lossguide', 'subsample': 0.5240408342286115, 'colsample_bytree': 0.8181064338134644}. Best is trial 153 with value: 0.8414814814814815.\n",
      "[I 2024-02-21 23:45:58,991] Trial 163 finished with value: 0.7629629629629631 and parameters: {'lambda': 0.003092731803600274, 'alpha': 1.586815075145246, 'max_depth': 9, 'eta': 0.07579544844261575, 'gamma': 0.8112721973740707, 'grow_policy': 'lossguide', 'subsample': 0.5113278755141116, 'colsample_bytree': 0.8090885453143912}. Best is trial 153 with value: 0.8414814814814815.\n",
      "[I 2024-02-21 23:45:59,137] Trial 164 finished with value: 0.7814814814814816 and parameters: {'lambda': 0.0017889770731256396, 'alpha': 0.8522762197061048, 'max_depth': 9, 'eta': 0.09981346180930571, 'gamma': 0.2905948949755562, 'grow_policy': 'lossguide', 'subsample': 0.5017733708693576, 'colsample_bytree': 0.8598554883016055}. Best is trial 153 with value: 0.8414814814814815.\n",
      "[I 2024-02-21 23:45:59,251] Trial 165 finished with value: 0.8014814814814816 and parameters: {'lambda': 0.004427621358703182, 'alpha': 1.0411338600773787, 'max_depth': 9, 'eta': 0.06520007749197568, 'gamma': 0.6977997341636756, 'grow_policy': 'lossguide', 'subsample': 0.5210323127527763, 'colsample_bytree': 0.8301051187908965}. Best is trial 153 with value: 0.8414814814814815.\n",
      "[I 2024-02-21 23:45:59,356] Trial 166 finished with value: 0.7814814814814816 and parameters: {'lambda': 0.0025061919911031688, 'alpha': 0.5691940035336432, 'max_depth': 9, 'eta': 0.08806886468810851, 'gamma': 1.017211016686401, 'grow_policy': 'lossguide', 'subsample': 0.5355646016750109, 'colsample_bytree': 0.583305205535016}. Best is trial 153 with value: 0.8414814814814815.\n",
      "[I 2024-02-21 23:45:59,501] Trial 167 finished with value: 0.8014814814814816 and parameters: {'lambda': 0.002044585379230966, 'alpha': 1.1466452049431115, 'max_depth': 9, 'eta': 0.08183314985822905, 'gamma': 0.4434752322941324, 'grow_policy': 'lossguide', 'subsample': 0.5130391972465117, 'colsample_bytree': 0.7894861042457567}. Best is trial 153 with value: 0.8414814814814815.\n",
      "[I 2024-02-21 23:45:59,616] Trial 168 finished with value: 0.7629629629629631 and parameters: {'lambda': 0.0013471004944137594, 'alpha': 0.6295938179390416, 'max_depth': 8, 'eta': 0.07069994009964947, 'gamma': 0.37300022257985194, 'grow_policy': 'lossguide', 'subsample': 0.5457262649007821, 'colsample_bytree': 0.8472722095607728}. Best is trial 153 with value: 0.8414814814814815.\n",
      "[I 2024-02-21 23:45:59,722] Trial 169 finished with value: 0.7814814814814816 and parameters: {'lambda': 0.0028202396827999893, 'alpha': 1.841674960184252, 'max_depth': 9, 'eta': 0.056999742588047346, 'gamma': 1.2234839295163091, 'grow_policy': 'lossguide', 'subsample': 0.5296586720769414, 'colsample_bytree': 0.7476215127915471}. Best is trial 153 with value: 0.8414814814814815.\n",
      "[I 2024-02-21 23:45:59,824] Trial 170 finished with value: 0.7629629629629631 and parameters: {'lambda': 0.0016133165543122645, 'alpha': 0.48071460895468165, 'max_depth': 9, 'eta': 0.06137953121732389, 'gamma': 0.5698903836853035, 'grow_policy': 'lossguide', 'subsample': 0.5115686665475946, 'colsample_bytree': 0.721110228173568}. Best is trial 153 with value: 0.8414814814814815.\n",
      "[I 2024-02-21 23:45:59,929] Trial 171 finished with value: 0.8214814814814816 and parameters: {'lambda': 0.002408539809673247, 'alpha': 0.7097608887643665, 'max_depth': 9, 'eta': 0.09916329579929509, 'gamma': 0.4532887868490986, 'grow_policy': 'lossguide', 'subsample': 0.5059549627651837, 'colsample_bytree': 0.8341693294245888}. Best is trial 153 with value: 0.8414814814814815.\n",
      "[I 2024-02-21 23:46:00,056] Trial 172 finished with value: 0.8029629629629631 and parameters: {'lambda': 0.002162717243632024, 'alpha': 0.6735479984358345, 'max_depth': 9, 'eta': 0.08985206686941265, 'gamma': 0.4803986853645149, 'grow_policy': 'lossguide', 'subsample': 0.5210279986918178, 'colsample_bytree': 0.8373050782639786}. Best is trial 153 with value: 0.8414814814814815.\n",
      "[I 2024-02-21 23:46:00,167] Trial 173 finished with value: 0.7814814814814816 and parameters: {'lambda': 0.001788711705306253, 'alpha': 0.7680580635807815, 'max_depth': 9, 'eta': 0.07948635326600002, 'gamma': 0.33127268881253746, 'grow_policy': 'lossguide', 'subsample': 0.5024316096559562, 'colsample_bytree': 0.8403605103045502}. Best is trial 153 with value: 0.8414814814814815.\n",
      "[I 2024-02-21 23:46:00,275] Trial 174 finished with value: 0.7844444444444445 and parameters: {'lambda': 0.001034419592616062, 'alpha': 0.7520268225138478, 'max_depth': 9, 'eta': 0.06819612797581795, 'gamma': 0.6734425683094777, 'grow_policy': 'lossguide', 'subsample': 0.5229304049807624, 'colsample_bytree': 0.807839825107488}. Best is trial 153 with value: 0.8414814814814815.\n",
      "[I 2024-02-21 23:46:00,370] Trial 175 finished with value: 0.7444444444444445 and parameters: {'lambda': 0.003710634497487269, 'alpha': 0.6339046550189271, 'max_depth': 8, 'eta': 0.07391061253453118, 'gamma': 0.7894364310917878, 'grow_policy': 'lossguide', 'subsample': 0.5317617579288441, 'colsample_bytree': 0.8176287148935882}. Best is trial 153 with value: 0.8414814814814815.\n",
      "[I 2024-02-21 23:46:00,476] Trial 176 finished with value: 0.7614814814814815 and parameters: {'lambda': 0.0013523402617669168, 'alpha': 1.2640537263281322, 'max_depth': 9, 'eta': 0.08468107439435751, 'gamma': 0.45049902764689975, 'grow_policy': 'lossguide', 'subsample': 0.5006607366461059, 'colsample_bytree': 0.8678303565820682}. Best is trial 153 with value: 0.8414814814814815.\n",
      "[I 2024-02-21 23:46:00,602] Trial 177 finished with value: 0.7444444444444445 and parameters: {'lambda': 0.0024231335141884636, 'alpha': 0.4790460122182972, 'max_depth': 9, 'eta': 0.06023133937158608, 'gamma': 0.38425144303983183, 'grow_policy': 'lossguide', 'subsample': 0.5510185516506194, 'colsample_bytree': 0.7759557038897295}. Best is trial 153 with value: 0.8414814814814815.\n",
      "[I 2024-02-21 23:46:00,729] Trial 178 finished with value: 0.7444444444444445 and parameters: {'lambda': 0.003043652472318737, 'alpha': 0.9113285220845151, 'max_depth': 9, 'eta': 0.04786732883732602, 'gamma': 0.2924863196391008, 'grow_policy': 'lossguide', 'subsample': 0.9208749037795507, 'colsample_bytree': 0.8785353069248253}. Best is trial 153 with value: 0.8414814814814815.\n",
      "[I 2024-02-21 23:46:00,849] Trial 179 finished with value: 0.745925925925926 and parameters: {'lambda': 0.0054845157344820174, 'alpha': 0.0017251105172306775, 'max_depth': 9, 'eta': 0.08748530545897464, 'gamma': 0.6011012270321118, 'grow_policy': 'lossguide', 'subsample': 0.5416069699923609, 'colsample_bytree': 0.795729606577428}. Best is trial 153 with value: 0.8414814814814815.\n",
      "[I 2024-02-21 23:46:00,957] Trial 180 finished with value: 0.7629629629629631 and parameters: {'lambda': 0.0020127922337912466, 'alpha': 0.35598215098121916, 'max_depth': 9, 'eta': 0.07613844696094003, 'gamma': 0.9775667408636597, 'grow_policy': 'lossguide', 'subsample': 0.5196812133097417, 'colsample_bytree': 0.82469368734672}. Best is trial 153 with value: 0.8414814814814815.\n",
      "[I 2024-02-21 23:46:01,063] Trial 181 finished with value: 0.7614814814814815 and parameters: {'lambda': 0.002036413919810522, 'alpha': 1.4006924246230639, 'max_depth': 9, 'eta': 0.09977045902671518, 'gamma': 0.5094741933029389, 'grow_policy': 'lossguide', 'subsample': 0.5100593740853709, 'colsample_bytree': 0.8355249531165145}. Best is trial 153 with value: 0.8414814814814815.\n",
      "[I 2024-02-21 23:46:01,197] Trial 182 finished with value: 0.7814814814814816 and parameters: {'lambda': 0.941307881320444, 'alpha': 1.0647331330729952, 'max_depth': 9, 'eta': 0.09381249448190143, 'gamma': 0.49259902960665836, 'grow_policy': 'lossguide', 'subsample': 0.5000542753404156, 'colsample_bytree': 0.8494357512896668}. Best is trial 153 with value: 0.8414814814814815.\n",
      "[I 2024-02-21 23:46:01,307] Trial 183 finished with value: 0.782962962962963 and parameters: {'lambda': 0.002370889969651066, 'alpha': 0.920354835989069, 'max_depth': 9, 'eta': 0.0903900941575367, 'gamma': 0.6716182722030652, 'grow_policy': 'lossguide', 'subsample': 0.5179808537563833, 'colsample_bytree': 0.82759516007861}. Best is trial 153 with value: 0.8414814814814815.\n",
      "[I 2024-02-21 23:46:01,421] Trial 184 finished with value: 0.7814814814814816 and parameters: {'lambda': 0.0016057859080624017, 'alpha': 0.7165568914249933, 'max_depth': 4, 'eta': 0.06694418751668563, 'gamma': 0.32726961476463845, 'grow_policy': 'lossguide', 'subsample': 0.5258148065287742, 'colsample_bytree': 0.8131736042099648}. Best is trial 153 with value: 0.8414814814814815.\n",
      "[I 2024-02-21 23:46:01,529] Trial 185 finished with value: 0.7629629629629631 and parameters: {'lambda': 0.0027212863978052296, 'alpha': 0.016934583951123253, 'max_depth': 9, 'eta': 0.05267877836846189, 'gamma': 0.7969786263202299, 'grow_policy': 'lossguide', 'subsample': 0.5170898540239631, 'colsample_bytree': 0.8045540578095579}. Best is trial 153 with value: 0.8414814814814815.\n",
      "[I 2024-02-21 23:46:01,642] Trial 186 finished with value: 0.7814814814814816 and parameters: {'lambda': 0.001449611150486881, 'alpha': 0.6027409298906016, 'max_depth': 9, 'eta': 0.0797421860788637, 'gamma': 0.44686386596793654, 'grow_policy': 'lossguide', 'subsample': 0.5800859639258944, 'colsample_bytree': 0.7837233395360435}. Best is trial 153 with value: 0.8414814814814815.\n",
      "[I 2024-02-21 23:46:01,757] Trial 187 finished with value: 0.782962962962963 and parameters: {'lambda': 0.0012162760211559046, 'alpha': 1.1297958661586862, 'max_depth': 9, 'eta': 0.05843606118560264, 'gamma': 0.2566019172677849, 'grow_policy': 'lossguide', 'subsample': 0.658401303637028, 'colsample_bytree': 0.7348772377302689}. Best is trial 153 with value: 0.8414814814814815.\n",
      "[I 2024-02-21 23:46:01,881] Trial 188 finished with value: 0.7629629629629631 and parameters: {'lambda': 0.0017926720910117415, 'alpha': 0.0095764385112173, 'max_depth': 8, 'eta': 0.0439303019766095, 'gamma': 0.006418127481215815, 'grow_policy': 'lossguide', 'subsample': 0.5380650712268524, 'colsample_bytree': 0.8515290416691078}. Best is trial 153 with value: 0.8414814814814815.\n",
      "[I 2024-02-21 23:46:01,994] Trial 189 finished with value: 0.7629629629629631 and parameters: {'lambda': 2.230966740993604, 'alpha': 0.39872248989262565, 'max_depth': 4, 'eta': 0.009367928176352121, 'gamma': 0.6181747051603954, 'grow_policy': 'lossguide', 'subsample': 0.7788675542513598, 'colsample_bytree': 0.8378913524455318}. Best is trial 153 with value: 0.8414814814814815.\n",
      "[I 2024-02-21 23:46:02,108] Trial 190 finished with value: 0.7629629629629631 and parameters: {'lambda': 0.003389578047509622, 'alpha': 0.8145746494008367, 'max_depth': 9, 'eta': 0.06451251444706614, 'gamma': 0.3758127606904247, 'grow_policy': 'lossguide', 'subsample': 0.7919603522804055, 'colsample_bytree': 0.8264106433186732}. Best is trial 153 with value: 0.8414814814814815.\n",
      "[I 2024-02-21 23:46:02,216] Trial 191 finished with value: 0.8229629629629629 and parameters: {'lambda': 0.0023609754471591057, 'alpha': 0.5418831474961581, 'max_depth': 9, 'eta': 0.09604876223089456, 'gamma': 0.5073043030814682, 'grow_policy': 'lossguide', 'subsample': 0.5085921848047087, 'colsample_bytree': 0.8336629847563141}. Best is trial 153 with value: 0.8414814814814815.\n",
      "[I 2024-02-21 23:46:02,352] Trial 192 finished with value: 0.7244444444444444 and parameters: {'lambda': 0.002702950788636919, 'alpha': 0.5316363775091623, 'max_depth': 9, 'eta': 0.08695099004028381, 'gamma': 0.9271005766734141, 'grow_policy': 'lossguide', 'subsample': 0.5107238012267654, 'colsample_bytree': 0.84045324400275}. Best is trial 153 with value: 0.8414814814814815.\n",
      "[I 2024-02-21 23:46:02,462] Trial 193 finished with value: 0.7629629629629631 and parameters: {'lambda': 0.0021795256190414447, 'alpha': 0.014112688242441237, 'max_depth': 9, 'eta': 0.09952133916812306, 'gamma': 0.5779838578986848, 'grow_policy': 'lossguide', 'subsample': 0.500002684513208, 'colsample_bytree': 0.8169974204485523}. Best is trial 153 with value: 0.8414814814814815.\n",
      "[I 2024-02-21 23:46:02,569] Trial 194 finished with value: 0.8014814814814816 and parameters: {'lambda': 0.002233538060567902, 'alpha': 0.9918803008380112, 'max_depth': 9, 'eta': 0.09004781165563869, 'gamma': 0.4900707026988632, 'grow_policy': 'lossguide', 'subsample': 0.5281038663875967, 'colsample_bytree': 0.8310039971087866}. Best is trial 153 with value: 0.8414814814814815.\n",
      "[I 2024-02-21 23:46:02,679] Trial 195 finished with value: 0.7429629629629629 and parameters: {'lambda': 0.0016248656962099316, 'alpha': 0.019793803981082225, 'max_depth': 9, 'eta': 0.07536209521802907, 'gamma': 0.7554237449691119, 'grow_policy': 'lossguide', 'subsample': 0.511929867827436, 'colsample_bytree': 0.8008269430841243}. Best is trial 153 with value: 0.8414814814814815.\n",
      "[I 2024-02-21 23:46:02,808] Trial 196 finished with value: 0.7429629629629629 and parameters: {'lambda': 0.0042186796218557695, 'alpha': 0.22789705430749319, 'max_depth': 9, 'eta': 0.08142670573544038, 'gamma': 0.019904251088746376, 'grow_policy': 'lossguide', 'subsample': 0.8001401823950074, 'colsample_bytree': 0.8165434559791357}. Best is trial 153 with value: 0.8414814814814815.\n",
      "[I 2024-02-21 23:46:02,923] Trial 197 finished with value: 0.7614814814814815 and parameters: {'lambda': 0.0019481441438506403, 'alpha': 0.7140027584013727, 'max_depth': 9, 'eta': 0.054225617562654656, 'gamma': 0.4278912151215248, 'grow_policy': 'lossguide', 'subsample': 0.5112570258634059, 'colsample_bytree': 0.8452899628607587}. Best is trial 153 with value: 0.8414814814814815.\n",
      "[I 2024-02-21 23:46:03,030] Trial 198 finished with value: 0.782962962962963 and parameters: {'lambda': 0.0029908821325578643, 'alpha': 0.47583809908840075, 'max_depth': 3, 'eta': 0.07075756234768155, 'gamma': 1.1641993713410796, 'grow_policy': 'lossguide', 'subsample': 0.5246078213008462, 'colsample_bytree': 0.8625943746893521}. Best is trial 153 with value: 0.8414814814814815.\n",
      "[I 2024-02-21 23:46:03,136] Trial 199 finished with value: 0.782962962962963 and parameters: {'lambda': 7.971834308006419, 'alpha': 0.8781669005037647, 'max_depth': 4, 'eta': 0.09110885449205675, 'gamma': 0.5827457052377735, 'grow_policy': 'depthwise', 'subsample': 0.537839799616904, 'colsample_bytree': 0.7941509560697999}. Best is trial 153 with value: 0.8414814814814815.\n",
      "[I 2024-02-21 23:46:03,293] Trial 200 finished with value: 0.7414814814814815 and parameters: {'lambda': 0.14197253794979456, 'alpha': 1.6006544486472505, 'max_depth': 9, 'eta': 0.011648988995665459, 'gamma': 0.014483842083757368, 'grow_policy': 'lossguide', 'subsample': 0.5199290217428808, 'colsample_bytree': 0.808788259819145}. Best is trial 153 with value: 0.8414814814814815.\n",
      "[I 2024-02-21 23:46:03,403] Trial 201 finished with value: 0.7814814814814816 and parameters: {'lambda': 0.002522634053500077, 'alpha': 0.6854688446686253, 'max_depth': 9, 'eta': 0.08814730829806064, 'gamma': 0.539183650990856, 'grow_policy': 'lossguide', 'subsample': 0.5000624844790394, 'colsample_bytree': 0.8334284800389364}. Best is trial 153 with value: 0.8414814814814815.\n",
      "[I 2024-02-21 23:46:03,511] Trial 202 finished with value: 0.7814814814814816 and parameters: {'lambda': 0.002280340801938553, 'alpha': 0.6453051203943851, 'max_depth': 9, 'eta': 0.09521996435243389, 'gamma': 0.4866686513276841, 'grow_policy': 'lossguide', 'subsample': 0.5107758665236155, 'colsample_bytree': 0.8290518667660084}. Best is trial 153 with value: 0.8414814814814815.\n",
      "[I 2024-02-21 23:46:03,912] Trial 203 finished with value: 0.8014814814814816 and parameters: {'lambda': 0.001814542782267759, 'alpha': 0.5995010416946007, 'max_depth': 9, 'eta': 0.09569584286172148, 'gamma': 0.693099980078612, 'grow_policy': 'lossguide', 'subsample': 0.507535072226682, 'colsample_bytree': 0.8566423356351218}. Best is trial 153 with value: 0.8414814814814815.\n",
      "[I 2024-02-21 23:46:04,030] Trial 204 finished with value: 0.8014814814814816 and parameters: {'lambda': 0.0013837965911352205, 'alpha': 1.2740507973493287, 'max_depth': 9, 'eta': 0.08104774534686707, 'gamma': 0.3670867041907983, 'grow_policy': 'lossguide', 'subsample': 0.5310791548785154, 'colsample_bytree': 0.8222614762027624}. Best is trial 153 with value: 0.8414814814814815.\n",
      "[I 2024-02-21 23:46:04,146] Trial 205 finished with value: 0.7644444444444445 and parameters: {'lambda': 0.002569142196029574, 'alpha': 0.41705498579528394, 'max_depth': 9, 'eta': 0.09846638599658358, 'gamma': 0.295780827800276, 'grow_policy': 'lossguide', 'subsample': 0.7414369435206125, 'colsample_bytree': 0.8391203543969652}. Best is trial 153 with value: 0.8414814814814815.\n",
      "[I 2024-02-21 23:46:04,250] Trial 206 finished with value: 0.782962962962963 and parameters: {'lambda': 0.0033023099454176173, 'alpha': 0.8111025414324056, 'max_depth': 4, 'eta': 0.038726374795877413, 'gamma': 0.86344541743778, 'grow_policy': 'depthwise', 'subsample': 0.8062319232524083, 'colsample_bytree': 0.847688192512614}. Best is trial 153 with value: 0.8414814814814815.\n",
      "[I 2024-02-21 23:46:04,357] Trial 207 finished with value: 0.782962962962963 and parameters: {'lambda': 0.0011715895437110478, 'alpha': 1.0552946974431472, 'max_depth': 7, 'eta': 0.04826376768349298, 'gamma': 0.44121610889976426, 'grow_policy': 'lossguide', 'subsample': 0.5169034257672519, 'colsample_bytree': 0.7678478354571221}. Best is trial 153 with value: 0.8414814814814815.\n",
      "[I 2024-02-21 23:46:04,470] Trial 208 finished with value: 0.7414814814814815 and parameters: {'lambda': 0.0017101368371611962, 'alpha': 0.28812123050147265, 'max_depth': 8, 'eta': 0.005118001560583942, 'gamma': 0.00231837350074533, 'grow_policy': 'depthwise', 'subsample': 0.5086347396968957, 'colsample_bytree': 0.8126034161994253}. Best is trial 153 with value: 0.8414814814814815.\n",
      "[I 2024-02-21 23:46:04,580] Trial 209 finished with value: 0.7444444444444445 and parameters: {'lambda': 0.01639713965143821, 'alpha': 0.011998964879375924, 'max_depth': 9, 'eta': 0.07099791761864546, 'gamma': 0.7082247864984828, 'grow_policy': 'lossguide', 'subsample': 0.5231261238430824, 'colsample_bytree': 0.7878436376494681}. Best is trial 153 with value: 0.8414814814814815.\n",
      "[I 2024-02-21 23:46:04,684] Trial 210 finished with value: 0.7429629629629629 and parameters: {'lambda': 0.00257236476928151, 'alpha': 0.5652846944746899, 'max_depth': 4, 'eta': 0.04248234863857478, 'gamma': 1.3672369968973808, 'grow_policy': 'depthwise', 'subsample': 0.5004065174633853, 'colsample_bytree': 0.8315767708381204}. Best is trial 153 with value: 0.8414814814814815.\n",
      "[I 2024-02-21 23:46:04,800] Trial 211 finished with value: 0.7814814814814816 and parameters: {'lambda': 0.0011661822199569851, 'alpha': 0.9611536384754474, 'max_depth': 9, 'eta': 0.08597792696008989, 'gamma': 0.35614350938367134, 'grow_policy': 'lossguide', 'subsample': 0.5549979401898508, 'colsample_bytree': 0.7169646995138975}. Best is trial 153 with value: 0.8414814814814815.\n",
      "[I 2024-02-21 23:46:04,913] Trial 212 finished with value: 0.782962962962963 and parameters: {'lambda': 0.0010733828831954793, 'alpha': 1.298205296374177, 'max_depth': 9, 'eta': 0.08282686645212899, 'gamma': 0.4065656758409932, 'grow_policy': 'lossguide', 'subsample': 0.5417683137123642, 'colsample_bytree': 0.7035688073525818}. Best is trial 153 with value: 0.8414814814814815.\n",
      "[I 2024-02-21 23:46:05,016] Trial 213 finished with value: 0.8214814814814816 and parameters: {'lambda': 0.0013802009997267667, 'alpha': 0.9772362836203463, 'max_depth': 9, 'eta': 0.07754311885494874, 'gamma': 0.5407363364936606, 'grow_policy': 'lossguide', 'subsample': 0.5313419103808051, 'colsample_bytree': 0.7013079527141121}. Best is trial 153 with value: 0.8414814814814815.\n",
      "[I 2024-02-21 23:46:05,125] Trial 214 finished with value: 0.782962962962963 and parameters: {'lambda': 0.0014942769826486334, 'alpha': 0.7910755263949377, 'max_depth': 9, 'eta': 0.06363484062993775, 'gamma': 0.5239724285176393, 'grow_policy': 'lossguide', 'subsample': 0.7681663616190271, 'colsample_bytree': 0.8260302570173537}. Best is trial 153 with value: 0.8414814814814815.\n",
      "[I 2024-02-21 23:46:05,223] Trial 215 finished with value: 0.782962962962963 and parameters: {'lambda': 0.0021255501226834068, 'alpha': 0.6730107978768871, 'max_depth': 9, 'eta': 0.09976129345432018, 'gamma': 0.6108191237210859, 'grow_policy': 'lossguide', 'subsample': 0.5301600407072906, 'colsample_bytree': 0.8188286136709865}. Best is trial 153 with value: 0.8414814814814815.\n",
      "[I 2024-02-21 23:46:05,362] Trial 216 finished with value: 0.722962962962963 and parameters: {'lambda': 0.43476818950849544, 'alpha': 1.1443303514395748, 'max_depth': 9, 'eta': 0.056081868358834865, 'gamma': 0.5068710545019068, 'grow_policy': 'lossguide', 'subsample': 0.5153796157999896, 'colsample_bytree': 0.7308093495509297}. Best is trial 153 with value: 0.8414814814814815.\n",
      "[I 2024-02-21 23:46:05,481] Trial 217 finished with value: 0.782962962962963 and parameters: {'lambda': 0.0019229988296472153, 'alpha': 0.9559911455640846, 'max_depth': 9, 'eta': 0.07462333349204563, 'gamma': 0.7693881613346586, 'grow_policy': 'lossguide', 'subsample': 0.7796163032297694, 'colsample_bytree': 0.8022304733976755}. Best is trial 153 with value: 0.8414814814814815.\n",
      "[I 2024-02-21 23:46:05,608] Trial 218 finished with value: 0.8229629629629629 and parameters: {'lambda': 0.0014209095573901106, 'alpha': 0.0070336888713402705, 'max_depth': 5, 'eta': 0.05027374544932601, 'gamma': 0.933071570359394, 'grow_policy': 'depthwise', 'subsample': 0.5219110933560679, 'colsample_bytree': 0.6641325623807469}. Best is trial 153 with value: 0.8414814814814815.\n",
      "[I 2024-02-21 23:46:05,715] Trial 219 finished with value: 0.7629629629629631 and parameters: {'lambda': 0.0013658591745308439, 'alpha': 0.010178872628811331, 'max_depth': 5, 'eta': 0.05054085749495236, 'gamma': 1.0715110579191456, 'grow_policy': 'depthwise', 'subsample': 0.5633222169681382, 'colsample_bytree': 0.6752974805162847}. Best is trial 153 with value: 0.8414814814814815.\n",
      "[I 2024-02-21 23:46:05,832] Trial 220 finished with value: 0.7629629629629631 and parameters: {'lambda': 0.0015796992742309263, 'alpha': 0.007212325817948145, 'max_depth': 5, 'eta': 0.04507241491631613, 'gamma': 0.8875806243743217, 'grow_policy': 'depthwise', 'subsample': 0.5325707178986416, 'colsample_bytree': 0.7539585760195034}. Best is trial 153 with value: 0.8414814814814815.\n",
      "[I 2024-02-21 23:46:05,951] Trial 221 finished with value: 0.7444444444444445 and parameters: {'lambda': 0.0018605235954709677, 'alpha': 0.005955023466692687, 'max_depth': 9, 'eta': 0.05937641794265857, 'gamma': 0.6421219500460592, 'grow_policy': 'depthwise', 'subsample': 0.518250591214311, 'colsample_bytree': 0.6530831289255277}. Best is trial 153 with value: 0.8414814814814815.\n",
      "[I 2024-02-21 23:46:06,067] Trial 222 finished with value: 0.782962962962963 and parameters: {'lambda': 0.021708108660501504, 'alpha': 0.49363692250933017, 'max_depth': 5, 'eta': 0.03646359768999476, 'gamma': 0.5542254344236199, 'grow_policy': 'depthwise', 'subsample': 0.5226692438647681, 'colsample_bytree': 0.6389722459601709}. Best is trial 153 with value: 0.8414814814814815.\n",
      "[I 2024-02-21 23:46:06,173] Trial 223 finished with value: 0.782962962962963 and parameters: {'lambda': 0.0022647516336285786, 'alpha': 0.008715600880188707, 'max_depth': 5, 'eta': 0.06605412770545592, 'gamma': 0.7257633312440331, 'grow_policy': 'depthwise', 'subsample': 0.5095634247751827, 'colsample_bytree': 0.6872066159298728}. Best is trial 153 with value: 0.8414814814814815.\n",
      "[I 2024-02-21 23:46:06,282] Trial 224 finished with value: 0.7629629629629631 and parameters: {'lambda': 0.324797855579851, 'alpha': 0.014545690228821783, 'max_depth': 5, 'eta': 0.05336274512396856, 'gamma': 0.988050147065629, 'grow_policy': 'depthwise', 'subsample': 0.792047378794898, 'colsample_bytree': 0.6680351604794973}. Best is trial 153 with value: 0.8414814814814815.\n",
      "[I 2024-02-21 23:46:06,426] Trial 225 finished with value: 0.7629629629629631 and parameters: {'lambda': 0.0014977026616196612, 'alpha': 0.004424511716162997, 'max_depth': 5, 'eta': 0.0786866325704871, 'gamma': 0.46285274662144243, 'grow_policy': 'lossguide', 'subsample': 0.5089072985587969, 'colsample_bytree': 0.8413895534745567}. Best is trial 153 with value: 0.8414814814814815.\n",
      "[I 2024-02-21 23:46:06,554] Trial 226 finished with value: 0.7429629629629629 and parameters: {'lambda': 0.190524939486033, 'alpha': 0.008339890120284148, 'max_depth': 6, 'eta': 0.046289800329462866, 'gamma': 0.03317976101844569, 'grow_policy': 'lossguide', 'subsample': 0.524072589585429, 'colsample_bytree': 0.7235293314999367}. Best is trial 153 with value: 0.8414814814814815.\n",
      "[I 2024-02-21 23:46:06,672] Trial 227 finished with value: 0.54 and parameters: {'lambda': 0.0028515095352431036, 'alpha': 0.1737636265786402, 'max_depth': 9, 'eta': 0.001601354285200525, 'gamma': 0.0030055047054176527, 'grow_policy': 'depthwise', 'subsample': 0.500255706237538, 'colsample_bytree': 0.8390991292162727}. Best is trial 153 with value: 0.8414814814814815.\n",
      "[I 2024-02-21 23:46:06,790] Trial 228 finished with value: 0.7614814814814815 and parameters: {'lambda': 0.0013285547116987572, 'alpha': 0.8537816385870453, 'max_depth': 9, 'eta': 0.09099646414333896, 'gamma': 0.22660134224339068, 'grow_policy': 'lossguide', 'subsample': 0.5468446250418901, 'colsample_bytree': 0.7808351842732096}. Best is trial 153 with value: 0.8414814814814815.\n",
      "[I 2024-02-21 23:46:06,890] Trial 229 finished with value: 0.7629629629629631 and parameters: {'lambda': 0.0019313812895801594, 'alpha': 0.011250814015516381, 'max_depth': 3, 'eta': 0.0411963434311731, 'gamma': 0.32080338910639516, 'grow_policy': 'depthwise', 'subsample': 0.8694503949751791, 'colsample_bytree': 0.6936351586259927}. Best is trial 153 with value: 0.8414814814814815.\n",
      "[I 2024-02-21 23:46:07,025] Trial 230 finished with value: 0.7629629629629631 and parameters: {'lambda': 0.0023621711871748643, 'alpha': 0.7435310887693406, 'max_depth': 4, 'eta': 0.060713470626486916, 'gamma': 0.6302470695687584, 'grow_policy': 'lossguide', 'subsample': 0.5354689152838629, 'colsample_bytree': 0.7417245741464292}. Best is trial 153 with value: 0.8414814814814815.\n",
      "[I 2024-02-21 23:46:07,135] Trial 231 finished with value: 0.7814814814814816 and parameters: {'lambda': 0.0012249187928549683, 'alpha': 1.040395344080059, 'max_depth': 9, 'eta': 0.08381740515269366, 'gamma': 0.40188743681247496, 'grow_policy': 'lossguide', 'subsample': 0.5431597812859602, 'colsample_bytree': 0.8307594005147427}. Best is trial 153 with value: 0.8414814814814815.\n",
      "[I 2024-02-21 23:46:07,235] Trial 232 finished with value: 0.8029629629629631 and parameters: {'lambda': 0.0010146880558467267, 'alpha': 1.4429056838204901, 'max_depth': 9, 'eta': 0.07518345665097655, 'gamma': 0.41051090343244856, 'grow_policy': 'lossguide', 'subsample': 0.5164867992353622, 'colsample_bytree': 0.7140921872455755}. Best is trial 153 with value: 0.8414814814814815.\n",
      "[I 2024-02-21 23:46:07,336] Trial 233 finished with value: 0.7629629629629631 and parameters: {'lambda': 0.0014742108602444144, 'alpha': 2.2064181811612924, 'max_depth': 9, 'eta': 0.0685339029511977, 'gamma': 0.5249314644362613, 'grow_policy': 'lossguide', 'subsample': 0.516895466123518, 'colsample_bytree': 0.7035955109984222}. Best is trial 153 with value: 0.8414814814814815.\n",
      "[I 2024-02-21 23:46:07,541] Trial 234 finished with value: 0.7629629629629631 and parameters: {'lambda': 0.0011109116332504486, 'alpha': 1.3218375280709243, 'max_depth': 9, 'eta': 0.07472655431903046, 'gamma': 0.26846302561283447, 'grow_policy': 'lossguide', 'subsample': 0.5097786893254146, 'colsample_bytree': 0.7212911951214768}. Best is trial 153 with value: 0.8414814814814815.\n",
      "[I 2024-02-21 23:46:07,705] Trial 235 finished with value: 0.8029629629629631 and parameters: {'lambda': 0.0010204200790442034, 'alpha': 1.6615513762275966, 'max_depth': 9, 'eta': 0.05326825648467139, 'gamma': 0.42817674153151364, 'grow_policy': 'lossguide', 'subsample': 0.8107568305159857, 'colsample_bytree': 0.7112333634192936}. Best is trial 153 with value: 0.8414814814814815.\n",
      "[I 2024-02-21 23:46:07,820] Trial 236 finished with value: 0.782962962962963 and parameters: {'lambda': 0.00106606784507164, 'alpha': 1.7198738735764678, 'max_depth': 9, 'eta': 0.04994529179133695, 'gamma': 0.3865830080762843, 'grow_policy': 'lossguide', 'subsample': 0.8146707420118268, 'colsample_bytree': 0.695780519346403}. Best is trial 153 with value: 0.8414814814814815.\n",
      "[I 2024-02-21 23:46:07,924] Trial 237 finished with value: 0.7629629629629631 and parameters: {'lambda': 0.001274145690006291, 'alpha': 1.1526053563336374, 'max_depth': 6, 'eta': 0.05467321382750462, 'gamma': 0.3274295473021382, 'grow_policy': 'depthwise', 'subsample': 0.8049963397182479, 'colsample_bytree': 0.7123923727442913}. Best is trial 153 with value: 0.8414814814814815.\n",
      "[I 2024-02-21 23:46:08,049] Trial 238 finished with value: 0.782962962962963 and parameters: {'lambda': 0.03675248765485045, 'alpha': 1.5334492272175506, 'max_depth': 9, 'eta': 0.06189540078391247, 'gamma': 0.43932030801840916, 'grow_policy': 'lossguide', 'subsample': 0.7873038910257113, 'colsample_bytree': 0.7092654131123438}. Best is trial 153 with value: 0.8414814814814815.\n",
      "[I 2024-02-21 23:46:08,172] Trial 239 finished with value: 0.7844444444444445 and parameters: {'lambda': 0.013407648620644473, 'alpha': 0.0024867426351094027, 'max_depth': 5, 'eta': 0.05654531833736527, 'gamma': 0.8068817702801097, 'grow_policy': 'lossguide', 'subsample': 0.8336322152170886, 'colsample_bytree': 0.7337536872157597}. Best is trial 153 with value: 0.8414814814814815.\n",
      "[I 2024-02-21 23:46:08,280] Trial 240 finished with value: 0.8029629629629631 and parameters: {'lambda': 0.028584559017260543, 'alpha': 1.431520227444129, 'max_depth': 9, 'eta': 0.04731209370213729, 'gamma': 0.6455804836102862, 'grow_policy': 'depthwise', 'subsample': 0.7984126122575516, 'colsample_bytree': 0.6180617640044965}. Best is trial 153 with value: 0.8414814814814815.\n",
      "[I 2024-02-21 23:46:08,382] Trial 241 finished with value: 0.7429629629629629 and parameters: {'lambda': 0.04880769203195759, 'alpha': 3.282526459960023, 'max_depth': 9, 'eta': 0.04566523144972665, 'gamma': 0.6090918321003959, 'grow_policy': 'depthwise', 'subsample': 0.7968334792129295, 'colsample_bytree': 0.5497574653202079}. Best is trial 153 with value: 0.8414814814814815.\n",
      "[I 2024-02-21 23:46:08,481] Trial 242 finished with value: 0.7629629629629631 and parameters: {'lambda': 0.0010509478500358416, 'alpha': 1.4607865684769024, 'max_depth': 9, 'eta': 0.04922448422753929, 'gamma': 0.7258729030785271, 'grow_policy': 'depthwise', 'subsample': 0.8163476744506939, 'colsample_bytree': 0.5795605438288639}. Best is trial 153 with value: 0.8414814814814815.\n",
      "[I 2024-02-21 23:46:08,593] Trial 243 finished with value: 0.8214814814814816 and parameters: {'lambda': 0.02673890387150277, 'alpha': 2.1362891444733703, 'max_depth': 9, 'eta': 0.042149465346590045, 'gamma': 0.5149662142113041, 'grow_policy': 'depthwise', 'subsample': 0.8058690434693299, 'colsample_bytree': 0.6477474599090425}. Best is trial 153 with value: 0.8414814814814815.\n",
      "[I 2024-02-21 23:46:08,808] Trial 244 finished with value: 0.7614814814814815 and parameters: {'lambda': 0.010545432395966921, 'alpha': 1.7352681055289005, 'max_depth': 9, 'eta': 0.039846257549186394, 'gamma': 0.0085904564736056, 'grow_policy': 'depthwise', 'subsample': 0.8064686596431961, 'colsample_bytree': 0.6065098012085743}. Best is trial 153 with value: 0.8414814814814815.\n",
      "[I 2024-02-21 23:46:08,922] Trial 245 finished with value: 0.7814814814814816 and parameters: {'lambda': 0.0715501168571031, 'alpha': 1.765187604906768, 'max_depth': 9, 'eta': 0.0436987608854209, 'gamma': 0.5655209068978068, 'grow_policy': 'depthwise', 'subsample': 0.7925869558769768, 'colsample_bytree': 0.626395488948963}. Best is trial 153 with value: 0.8414814814814815.\n",
      "[I 2024-02-21 23:46:09,114] Trial 246 finished with value: 0.7629629629629631 and parameters: {'lambda': 0.023394424035277278, 'alpha': 2.2424391836560726, 'max_depth': 9, 'eta': 0.035224303882154445, 'gamma': 0.8819079850169723, 'grow_policy': 'depthwise', 'subsample': 0.8095791267261235, 'colsample_bytree': 0.606835152236485}. Best is trial 153 with value: 0.8414814814814815.\n",
      "[I 2024-02-21 23:46:09,274] Trial 247 finished with value: 0.8029629629629631 and parameters: {'lambda': 0.030780833764241875, 'alpha': 0.019134211144164893, 'max_depth': 9, 'eta': 0.05160576052769639, 'gamma': 0.44369646111377864, 'grow_policy': 'depthwise', 'subsample': 0.7772692911689679, 'colsample_bytree': 0.6385221253747428}. Best is trial 153 with value: 0.8414814814814815.\n",
      "[I 2024-02-21 23:46:09,424] Trial 248 finished with value: 0.782962962962963 and parameters: {'lambda': 0.03352637263954534, 'alpha': 0.0201501061177572, 'max_depth': 6, 'eta': 0.05112770775392205, 'gamma': 0.4192175945105384, 'grow_policy': 'depthwise', 'subsample': 0.7742344607169576, 'colsample_bytree': 0.6361998793791637}. Best is trial 153 with value: 0.8414814814814815.\n",
      "[I 2024-02-21 23:46:09,745] Trial 249 finished with value: 0.7814814814814816 and parameters: {'lambda': 0.025767355102906866, 'alpha': 4.664204620600723, 'max_depth': 9, 'eta': 0.03955239389136328, 'gamma': 0.3167395129735685, 'grow_policy': 'depthwise', 'subsample': 0.7815032331848463, 'colsample_bytree': 0.6595442192997201}. Best is trial 153 with value: 0.8414814814814815.\n",
      "[I 2024-02-21 23:46:09,863] Trial 250 finished with value: 0.7629629629629631 and parameters: {'lambda': 0.04355993448307921, 'alpha': 0.01655578660913723, 'max_depth': 5, 'eta': 0.046062393026849204, 'gamma': 0.06499411451017134, 'grow_policy': 'depthwise', 'subsample': 0.7518287462445888, 'colsample_bytree': 0.6520945869089758}. Best is trial 153 with value: 0.8414814814814815.\n",
      "[I 2024-02-21 23:46:10,001] Trial 251 finished with value: 0.7629629629629631 and parameters: {'lambda': 0.0010309501379452543, 'alpha': 2.4508045617277587, 'max_depth': 4, 'eta': 0.049764071514959124, 'gamma': 0.4577234814063922, 'grow_policy': 'depthwise', 'subsample': 0.8010451270236668, 'colsample_bytree': 0.6693084490325684}. Best is trial 153 with value: 0.8414814814814815.\n",
      "[I 2024-02-21 23:46:10,151] Trial 252 finished with value: 0.7614814814814815 and parameters: {'lambda': 0.030587046426795213, 'alpha': 2.6089145659759545, 'max_depth': 9, 'eta': 0.05469142176490632, 'gamma': 1.0648065891857266, 'grow_policy': 'depthwise', 'subsample': 0.825599565061444, 'colsample_bytree': 0.6395797817676492}. Best is trial 153 with value: 0.8414814814814815.\n",
      "[I 2024-02-21 23:46:10,313] Trial 253 finished with value: 0.782962962962963 and parameters: {'lambda': 0.033037561782502195, 'alpha': 0.013521641473035749, 'max_depth': 9, 'eta': 0.04218956351479872, 'gamma': 1.3341499538434143, 'grow_policy': 'depthwise', 'subsample': 0.7852456779323044, 'colsample_bytree': 0.6218285928099349}. Best is trial 153 with value: 0.8414814814814815.\n",
      "[I 2024-02-21 23:46:10,432] Trial 254 finished with value: 0.7614814814814815 and parameters: {'lambda': 0.028264002568394016, 'alpha': 1.866136634064669, 'max_depth': 3, 'eta': 0.04774548330886258, 'gamma': 0.3726973753569779, 'grow_policy': 'depthwise', 'subsample': 0.7968359076219611, 'colsample_bytree': 0.6319630001930974}. Best is trial 153 with value: 0.8414814814814815.\n",
      "[I 2024-02-21 23:46:10,567] Trial 255 finished with value: 0.7629629629629631 and parameters: {'lambda': 0.058901303002315525, 'alpha': 0.02850124624607835, 'max_depth': 9, 'eta': 0.03721955332292416, 'gamma': 0.6501265392037444, 'grow_policy': 'depthwise', 'subsample': 0.7631207682508602, 'colsample_bytree': 0.6458664366104567}. Best is trial 153 with value: 0.8414814814814815.\n",
      "[I 2024-02-21 23:46:10,776] Trial 256 finished with value: 0.8029629629629631 and parameters: {'lambda': 0.01970249396575583, 'alpha': 0.02408054824999582, 'max_depth': 4, 'eta': 0.05649325497558326, 'gamma': 0.5023149448175103, 'grow_policy': 'depthwise', 'subsample': 0.780043239429374, 'colsample_bytree': 0.9685426396230019}. Best is trial 153 with value: 0.8414814814814815.\n",
      "[I 2024-02-21 23:46:10,939] Trial 257 finished with value: 0.782962962962963 and parameters: {'lambda': 0.041422656073015846, 'alpha': 1.9563715453386707, 'max_depth': 6, 'eta': 0.04404754993128173, 'gamma': 0.2681092037093939, 'grow_policy': 'depthwise', 'subsample': 0.8174414742660826, 'colsample_bytree': 0.7160704497878082}. Best is trial 153 with value: 0.8414814814814815.\n",
      "[I 2024-02-21 23:46:11,084] Trial 258 finished with value: 0.8229629629629629 and parameters: {'lambda': 0.10870626233698502, 'alpha': 0.01964507545924714, 'max_depth': 7, 'eta': 0.060710650828456, 'gamma': 0.717185214916452, 'grow_policy': 'depthwise', 'subsample': 0.7689886690487184, 'colsample_bytree': 0.6609555004965098}. Best is trial 153 with value: 0.8414814814814815.\n",
      "[I 2024-02-21 23:46:11,199] Trial 259 finished with value: 0.8029629629629631 and parameters: {'lambda': 0.1004170293621359, 'alpha': 0.003141946167284206, 'max_depth': 7, 'eta': 0.0628394497602961, 'gamma': 0.7799358809391228, 'grow_policy': 'depthwise', 'subsample': 0.8460217665705226, 'colsample_bytree': 0.6634789757698053}. Best is trial 153 with value: 0.8414814814814815.\n",
      "[I 2024-02-21 23:46:11,308] Trial 260 finished with value: 0.782962962962963 and parameters: {'lambda': 0.08119811946591037, 'alpha': 0.0372697962188156, 'max_depth': 7, 'eta': 0.0590536893954312, 'gamma': 0.9455503773894989, 'grow_policy': 'depthwise', 'subsample': 0.7595407318807431, 'colsample_bytree': 0.6786668958104185}. Best is trial 153 with value: 0.8414814814814815.\n",
      "[I 2024-02-21 23:46:11,671] Trial 261 finished with value: 0.7629629629629631 and parameters: {'lambda': 0.1372341328296194, 'alpha': 0.044453160626194865, 'max_depth': 8, 'eta': 0.06973779266691037, 'gamma': 0.7031806060356101, 'grow_policy': 'depthwise', 'subsample': 0.7720790099489006, 'colsample_bytree': 0.7263850233822595}. Best is trial 153 with value: 0.8414814814814815.\n",
      "[I 2024-02-21 23:46:11,798] Trial 262 finished with value: 0.7429629629629629 and parameters: {'lambda': 0.0015650595102969372, 'alpha': 1.42234722730222, 'max_depth': 7, 'eta': 0.05907462525317821, 'gamma': 1.1956852591873453, 'grow_policy': 'depthwise', 'subsample': 0.6126734215333625, 'colsample_bytree': 0.6123971273179096}. Best is trial 153 with value: 0.8414814814814815.\n",
      "[I 2024-02-21 23:46:11,908] Trial 263 finished with value: 0.782962962962963 and parameters: {'lambda': 0.0013096896317566131, 'alpha': 0.3647205719470797, 'max_depth': 5, 'eta': 0.039323086366795344, 'gamma': 0.6105140390544633, 'grow_policy': 'depthwise', 'subsample': 0.8078008762061214, 'colsample_bytree': 0.6858313687116221}. Best is trial 153 with value: 0.8414814814814815.\n",
      "[I 2024-02-21 23:46:12,052] Trial 264 finished with value: 0.7429629629629629 and parameters: {'lambda': 0.1280809710466676, 'alpha': 0.007331235693397814, 'max_depth': 6, 'eta': 0.01496984616791751, 'gamma': 0.19784832715342487, 'grow_policy': 'depthwise', 'subsample': 0.795771911050616, 'colsample_bytree': 0.6998449465877384}. Best is trial 153 with value: 0.8414814814814815.\n",
      "[I 2024-02-21 23:46:12,221] Trial 265 finished with value: 0.7644444444444445 and parameters: {'lambda': 0.0017120765118983636, 'alpha': 0.08453280197115026, 'max_depth': 5, 'eta': 0.03358456551302692, 'gamma': 0.8398403469477648, 'grow_policy': 'depthwise', 'subsample': 0.8903213054115879, 'colsample_bytree': 0.6593260415220642}. Best is trial 153 with value: 0.8414814814814815.\n",
      "[I 2024-02-21 23:46:12,450] Trial 266 finished with value: 0.725925925925926 and parameters: {'lambda': 0.0010140152568853878, 'alpha': 0.010085278353116392, 'max_depth': 6, 'eta': 0.07463022312552121, 'gamma': 0.6918756652789373, 'grow_policy': 'lossguide', 'subsample': 0.7418595055409846, 'colsample_bytree': 0.7919467427798202}. Best is trial 153 with value: 0.8414814814814815.\n",
      "[I 2024-02-21 23:46:12,587] Trial 267 finished with value: 0.725925925925926 and parameters: {'lambda': 0.001706277651346977, 'alpha': 0.0011102518230077154, 'max_depth': 5, 'eta': 0.05252396789664074, 'gamma': 0.5347960960246896, 'grow_policy': 'lossguide', 'subsample': 0.5186621368032288, 'colsample_bytree': 0.80225790849582}. Best is trial 153 with value: 0.8414814814814815.\n",
      "[I 2024-02-21 23:46:12,801] Trial 268 finished with value: 0.782962962962963 and parameters: {'lambda': 0.1180273021545713, 'alpha': 0.22856897681892377, 'max_depth': 4, 'eta': 0.06631385981565889, 'gamma': 0.09014801289905588, 'grow_policy': 'depthwise', 'subsample': 0.7271470225550243, 'colsample_bytree': 0.5656836548667239}. Best is trial 153 with value: 0.8414814814814815.\n",
      "[I 2024-02-21 23:46:12,992] Trial 269 finished with value: 0.7629629629629631 and parameters: {'lambda': 0.001496762784180977, 'alpha': 0.015243983623110923, 'max_depth': 6, 'eta': 0.0455346073121422, 'gamma': 0.37745505102258176, 'grow_policy': 'lossguide', 'subsample': 0.8560396893647696, 'colsample_bytree': 0.5939166438700765}. Best is trial 153 with value: 0.8414814814814815.\n",
      "[I 2024-02-21 23:46:13,098] Trial 270 finished with value: 0.782962962962963 and parameters: {'lambda': 0.0954822800190597, 'alpha': 0.012388952784458755, 'max_depth': 9, 'eta': 0.07953307510295013, 'gamma': 1.0139569190755193, 'grow_policy': 'depthwise', 'subsample': 0.7661102616236678, 'colsample_bytree': 0.8108683420519447}. Best is trial 153 with value: 0.8414814814814815.\n",
      "[I 2024-02-21 23:46:13,322] Trial 271 finished with value: 0.782962962962963 and parameters: {'lambda': 0.001377965432919719, 'alpha': 0.054005665999767714, 'max_depth': 8, 'eta': 0.062238114903587674, 'gamma': 1.912137853904357, 'grow_policy': 'lossguide', 'subsample': 0.8262620020670504, 'colsample_bytree': 0.7777776997061068}. Best is trial 153 with value: 0.8414814814814815.\n",
      "[I 2024-02-21 23:46:13,430] Trial 272 finished with value: 0.782962962962963 and parameters: {'lambda': 0.001264485186695608, 'alpha': 1.27391244213122, 'max_depth': 9, 'eta': 0.04152869440968826, 'gamma': 0.5802461316370352, 'grow_policy': 'depthwise', 'subsample': 0.5251124258796644, 'colsample_bytree': 0.767136639694353}. Best is trial 153 with value: 0.8414814814814815.\n",
      "[I 2024-02-21 23:46:13,686] Trial 273 finished with value: 0.7429629629629629 and parameters: {'lambda': 0.219156566792531, 'alpha': 0.899328208423131, 'max_depth': 5, 'eta': 0.04814996822842095, 'gamma': 1.482832117203374, 'grow_policy': 'lossguide', 'subsample': 0.7874345247328394, 'colsample_bytree': 0.7436546546865067}. Best is trial 153 with value: 0.8414814814814815.\n",
      "[I 2024-02-21 23:46:13,796] Trial 274 finished with value: 0.8014814814814816 and parameters: {'lambda': 0.0018865257785586381, 'alpha': 0.5408287123538694, 'max_depth': 9, 'eta': 0.05529841833568232, 'gamma': 0.7034723899884924, 'grow_policy': 'depthwise', 'subsample': 0.5013143841119269, 'colsample_bytree': 0.5002184764446778}. Best is trial 153 with value: 0.8414814814814815.\n",
      "[I 2024-02-21 23:46:13,944] Trial 275 finished with value: 0.7644444444444445 and parameters: {'lambda': 0.0017363365657395136, 'alpha': 0.0018277362828045959, 'max_depth': 8, 'eta': 0.07203952950096706, 'gamma': 0.45304980270977224, 'grow_policy': 'lossguide', 'subsample': 0.8028635473234345, 'colsample_bytree': 0.8186572124348998}. Best is trial 153 with value: 0.8414814814814815.\n",
      "[I 2024-02-21 23:46:14,060] Trial 276 finished with value: 0.7629629629629631 and parameters: {'lambda': 0.016184590357834597, 'alpha': 0.31410429918046107, 'max_depth': 4, 'eta': 0.08727729583770244, 'gamma': 0.846543396653849, 'grow_policy': 'lossguide', 'subsample': 0.7559296053339573, 'colsample_bytree': 0.7980198367320003}. Best is trial 153 with value: 0.8414814814814815.\n",
      "[I 2024-02-21 23:46:14,186] Trial 277 finished with value: 0.7644444444444445 and parameters: {'lambda': 0.16354196136482219, 'alpha': 0.12440234377052685, 'max_depth': 9, 'eta': 0.03726884468921768, 'gamma': 0.2743267235970825, 'grow_policy': 'depthwise', 'subsample': 0.8128793004431991, 'colsample_bytree': 0.8094067257281217}. Best is trial 153 with value: 0.8414814814814815.\n",
      "[I 2024-02-21 23:46:14,300] Trial 278 finished with value: 0.7414814814814815 and parameters: {'lambda': 0.0663474252560135, 'alpha': 0.026983594317200724, 'max_depth': 6, 'eta': 0.06691735959911752, 'gamma': 0.34072275666936963, 'grow_policy': 'lossguide', 'subsample': 0.5132021571707683, 'colsample_bytree': 0.7092856120680665}. Best is trial 153 with value: 0.8414814814814815.\n",
      "[I 2024-02-21 23:46:14,414] Trial 279 finished with value: 0.722962962962963 and parameters: {'lambda': 0.0012408239091341812, 'alpha': 0.017663474312555178, 'max_depth': 3, 'eta': 0.007582029440172292, 'gamma': 0.5489865611946325, 'grow_policy': 'depthwise', 'subsample': 0.5001499467519154, 'colsample_bytree': 0.7873473704897527}. Best is trial 153 with value: 0.8414814814814815.\n",
      "[I 2024-02-21 23:46:14,529] Trial 280 finished with value: 0.72 and parameters: {'lambda': 0.0010085691375647842, 'alpha': 1.5768288438269606, 'max_depth': 7, 'eta': 0.0034590135704324564, 'gamma': 1.212516786062333, 'grow_policy': 'lossguide', 'subsample': 0.90203958990161, 'colsample_bytree': 0.7559952951372158}. Best is trial 153 with value: 0.8414814814814815.\n",
      "[I 2024-02-21 23:46:14,632] Trial 281 finished with value: 0.782962962962963 and parameters: {'lambda': 0.003144958429096389, 'alpha': 0.6490823341152775, 'max_depth': 4, 'eta': 0.051219287104897475, 'gamma': 0.005302531040061975, 'grow_policy': 'depthwise', 'subsample': 0.5296016839448623, 'colsample_bytree': 0.6746476413304345}. Best is trial 153 with value: 0.8414814814814815.\n",
      "[I 2024-02-21 23:46:14,741] Trial 282 finished with value: 0.8014814814814816 and parameters: {'lambda': 0.0020041157552793585, 'alpha': 1.2397567727305785, 'max_depth': 5, 'eta': 0.04294906209863044, 'gamma': 0.633115693363571, 'grow_policy': 'lossguide', 'subsample': 0.7873445137253978, 'colsample_bytree': 0.6492944384806609}. Best is trial 153 with value: 0.8414814814814815.\n",
      "[I 2024-02-21 23:46:14,846] Trial 283 finished with value: 0.7429629629629629 and parameters: {'lambda': 0.0014508549720893482, 'alpha': 3.011362207920782, 'max_depth': 9, 'eta': 0.06253441837018259, 'gamma': 0.23174961667179245, 'grow_policy': 'depthwise', 'subsample': 0.5137498558554882, 'colsample_bytree': 0.7292366086687543}. Best is trial 153 with value: 0.8414814814814815.\n",
      "[I 2024-02-21 23:46:14,986] Trial 284 finished with value: 0.7444444444444445 and parameters: {'lambda': 0.0038843252902245255, 'alpha': 0.1495232724468707, 'max_depth': 9, 'eta': 0.032389400298580465, 'gamma': 0.4950755681135808, 'grow_policy': 'lossguide', 'subsample': 0.7729180185806226, 'colsample_bytree': 0.8206105328698278}. Best is trial 153 with value: 0.8414814814814815.\n",
      "[I 2024-02-21 23:46:15,103] Trial 285 finished with value: 0.7444444444444445 and parameters: {'lambda': 0.002654915639227351, 'alpha': 0.0014264754948150936, 'max_depth': 9, 'eta': 0.07654511088021876, 'gamma': 0.3907471171527256, 'grow_policy': 'depthwise', 'subsample': 0.7982213111527463, 'colsample_bytree': 0.8489393735477332}. Best is trial 153 with value: 0.8414814814814815.\n",
      "[I 2024-02-21 23:46:15,209] Trial 286 finished with value: 0.8229629629629629 and parameters: {'lambda': 0.001698615847388708, 'alpha': 0.4432020672522672, 'max_depth': 6, 'eta': 0.05690955502318946, 'gamma': 0.847286735208381, 'grow_policy': 'lossguide', 'subsample': 0.520994289453032, 'colsample_bytree': 0.7201121910107575}. Best is trial 153 with value: 0.8414814814814815.\n",
      "[I 2024-02-21 23:46:15,315] Trial 287 finished with value: 0.8029629629629631 and parameters: {'lambda': 0.0016517552459971027, 'alpha': 0.5324910619559473, 'max_depth': 6, 'eta': 0.057756664509172745, 'gamma': 1.0082910196218253, 'grow_policy': 'lossguide', 'subsample': 0.5229585791061404, 'colsample_bytree': 0.7170529411584833}. Best is trial 153 with value: 0.8414814814814815.\n",
      "[I 2024-02-21 23:46:15,421] Trial 288 finished with value: 0.8014814814814816 and parameters: {'lambda': 0.002214804486878763, 'alpha': 0.4230279297074721, 'max_depth': 7, 'eta': 0.08683389105058, 'gamma': 0.8227198188160257, 'grow_policy': 'lossguide', 'subsample': 0.5362328861985959, 'colsample_bytree': 0.7034672119780887}. Best is trial 153 with value: 0.8414814814814815.\n",
      "[I 2024-02-21 23:46:15,528] Trial 289 finished with value: 0.7429629629629629 and parameters: {'lambda': 0.008526349183558496, 'alpha': 0.4415783179974153, 'max_depth': 6, 'eta': 0.05510766392196642, 'gamma': 0.7694541989610695, 'grow_policy': 'lossguide', 'subsample': 0.5190196075797848, 'colsample_bytree': 0.7271419592991463}. Best is trial 153 with value: 0.8414814814814815.\n",
      "[I 2024-02-21 23:46:15,675] Trial 290 finished with value: 0.7614814814814815 and parameters: {'lambda': 0.0012449961835519095, 'alpha': 0.0702744720300164, 'max_depth': 5, 'eta': 0.06869207420693797, 'gamma': 0.931042773953809, 'grow_policy': 'lossguide', 'subsample': 0.508171142984233, 'colsample_bytree': 0.7360611050409225}. Best is trial 153 with value: 0.8414814814814815.\n",
      "[I 2024-02-21 23:46:15,790] Trial 291 finished with value: 0.8014814814814816 and parameters: {'lambda': 0.0019018214987528241, 'alpha': 0.34478542923066957, 'max_depth': 7, 'eta': 0.07956098632767931, 'gamma': 0.3137609816614484, 'grow_policy': 'lossguide', 'subsample': 0.5312168773910988, 'colsample_bytree': 0.7133904113764838}. Best is trial 153 with value: 0.8414814814814815.\n",
      "[I 2024-02-21 23:46:15,894] Trial 292 finished with value: 0.7444444444444445 and parameters: {'lambda': 0.0014604383795435865, 'alpha': 0.2511342913135476, 'max_depth': 6, 'eta': 0.060066621818937384, 'gamma': 1.182067076278136, 'grow_policy': 'lossguide', 'subsample': 0.9355625533181013, 'colsample_bytree': 0.7936667161873211}. Best is trial 153 with value: 0.8414814814814815.\n",
      "[I 2024-02-21 23:46:16,026] Trial 293 finished with value: 0.7629629629629631 and parameters: {'lambda': 0.0020998318122123394, 'alpha': 0.5641374571858888, 'max_depth': 5, 'eta': 0.05274041385508208, 'gamma': 0.4638518881709872, 'grow_policy': 'lossguide', 'subsample': 0.5181007716891286, 'colsample_bytree': 0.8045713525603502}. Best is trial 153 with value: 0.8414814814814815.\n",
      "[I 2024-02-21 23:46:16,145] Trial 294 finished with value: 0.8014814814814816 and parameters: {'lambda': 0.0016299524560973947, 'alpha': 0.7493907812716732, 'max_depth': 5, 'eta': 0.09995043988934965, 'gamma': 0.5571475304197372, 'grow_policy': 'lossguide', 'subsample': 0.5000412551237097, 'colsample_bytree': 0.6903269215677017}. Best is trial 153 with value: 0.8414814814814815.\n",
      "[I 2024-02-21 23:46:16,261] Trial 295 finished with value: 0.8014814814814816 and parameters: {'lambda': 0.001007527045305006, 'alpha': 0.021238925590714906, 'max_depth': 6, 'eta': 0.06521629711364384, 'gamma': 0.3700606777319366, 'grow_policy': 'lossguide', 'subsample': 0.5096363121991445, 'colsample_bytree': 0.8260587811949196}. Best is trial 153 with value: 0.8414814814814815.\n",
      "[I 2024-02-21 23:46:16,372] Trial 296 finished with value: 0.8014814814814816 and parameters: {'lambda': 0.0012152358908645872, 'alpha': 0.008131082254667433, 'max_depth': 3, 'eta': 0.08835242043105684, 'gamma': 0.1529003134234265, 'grow_policy': 'lossguide', 'subsample': 0.5395407183545476, 'colsample_bytree': 0.7731218553121321}. Best is trial 153 with value: 0.8414814814814815.\n",
      "[I 2024-02-21 23:46:16,483] Trial 297 finished with value: 0.782962962962963 and parameters: {'lambda': 0.00272232996304837, 'alpha': 0.10097833718109543, 'max_depth': 4, 'eta': 0.07639852191941084, 'gamma': 0.68830648063678, 'grow_policy': 'lossguide', 'subsample': 0.5242452786916638, 'colsample_bytree': 0.7430099237302004}. Best is trial 153 with value: 0.8414814814814815.\n",
      "[I 2024-02-21 23:46:16,596] Trial 298 finished with value: 0.7644444444444445 and parameters: {'lambda': 0.0034204779143266395, 'alpha': 0.0064172340708515884, 'max_depth': 6, 'eta': 0.07041612209833507, 'gamma': 1.4546480504675083, 'grow_policy': 'lossguide', 'subsample': 0.7476000650704699, 'colsample_bytree': 0.8124382101227327}. Best is trial 153 with value: 0.8414814814814815.\n",
      "[I 2024-02-21 23:46:16,703] Trial 299 finished with value: 0.782962962962963 and parameters: {'lambda': 0.0017987998362810525, 'alpha': 0.46719682842875054, 'max_depth': 4, 'eta': 0.04007520688373495, 'gamma': 0.46117793280470487, 'grow_policy': 'lossguide', 'subsample': 0.5149306853604436, 'colsample_bytree': 0.7217462047462669}. Best is trial 153 with value: 0.8414814814814815.\n"
     ]
    },
    {
     "name": "stdout",
     "output_type": "stream",
     "text": [
      "Number of finished trials: 300\n",
      "Best trial: {'lambda': 0.002228273294833405, 'alpha': 1.0878074115671539, 'max_depth': 9, 'eta': 0.092341735217733, 'gamma': 0.4792235660479775, 'grow_policy': 'lossguide', 'subsample': 0.5015376109722444, 'colsample_bytree': 0.8298918585470988}\n"
     ]
    }
   ],
   "source": [
    "import optuna\n",
    "\n",
    "# Функция для оптимизации\n",
    "def objective(trial):\n",
    "    # Гиперпараметры для оптимизации\n",
    "    param = {\n",
    "        'verbosity': 0,\n",
    "        'objective': 'binary:logistic',\n",
    "        'eval_metric': 'auc',\n",
    "        'booster': 'gbtree',\n",
    "        'use_label_encoder': False,\n",
    "        'lambda': trial.suggest_float('lambda', 1e-3, 10.0, log=True),\n",
    "        'alpha': trial.suggest_float('alpha', 1e-3, 10.0, log=True),\n",
    "        'max_depth': trial.suggest_int('max_depth', 3, 9),\n",
    "        'eta': trial.suggest_float('eta', 1e-3, 0.1, log=True),\n",
    "        'gamma': trial.suggest_float('gamma', 1e-3, 10.0, log=True),\n",
    "        'grow_policy': trial.suggest_categorical('grow_policy', ['depthwise', 'lossguide']),\n",
    "        'subsample': trial.suggest_float('subsample', 0.5, 1.0),\n",
    "        'colsample_bytree': trial.suggest_float('colsample_bytree', 0.5, 1.0)\n",
    "    }\n",
    "    \n",
    "    # Создание и обучение модели\n",
    "    model = xgb.XGBClassifier(**param)\n",
    "    model.fit(X_train, y_train, eval_set=[(X_test, y_test)], verbose=False)\n",
    "    \n",
    "    # Предсказания на тестовой выборке\n",
    "    preds = model.predict(X_test)\n",
    "    \n",
    "    # Расчет ROC AUC\n",
    "    roc_auc = roc_auc_score(y_test, preds)\n",
    "    \n",
    "    return roc_auc\n",
    "\n",
    "# Создание объекта исследования и выполнение оптимизации\n",
    "study = optuna.create_study(direction='maximize')\n",
    "study.optimize(objective, n_trials=300)\n",
    "\n",
    "# Вывод лучших гиперпараметров\n",
    "print('Number of finished trials:', len(study.trials))\n",
    "print('Best trial:', study.best_trial.params)"
   ]
  },
  {
   "cell_type": "code",
   "execution_count": 34,
   "id": "5e8556b9-2b2a-418b-9b38-0b3941b96b51",
   "metadata": {},
   "outputs": [],
   "source": [
    "best_params = study.best_trial.params\n"
   ]
  },
  {
   "cell_type": "code",
   "execution_count": 36,
   "id": "f4490852-b3bc-419d-8aa1-e6e41362a328",
   "metadata": {},
   "outputs": [],
   "source": [
    "# Создание и обучение модели XGBoost с оптимизированными параметрами\n",
    "optimized_params = best_params\n",
    "\n",
    "xgb_optimized = xgb.XGBClassifier(**optimized_params)\n",
    "xgb_optimized.fit(X_train, y_train)\n",
    "\n",
    "# Предсказания на тестовой выборке\n",
    "y_pred_xgb_optimized = xgb_optimized.predict(X_test)\n",
    "\n",
    "# Оценка модели\n",
    "accuracy_xgb_optimized = accuracy_score(y_test, y_pred_xgb_optimized)\n",
    "precision_xgb_optimized = precision_score(y_test, y_pred_xgb_optimized)\n",
    "recall_xgb_optimized = recall_score(y_test, y_pred_xgb_optimized)\n",
    "f1_xgb_optimized = f1_score(y_test, y_pred_xgb_optimized)\n",
    "roc_auc_xgb_optimized = roc_auc_score(y_test, y_pred_xgb_optimized)"
   ]
  },
  {
   "cell_type": "code",
   "execution_count": 37,
   "id": "efa2b941-4759-43e3-a9dd-0f2a9c7d3360",
   "metadata": {},
   "outputs": [
    {
     "name": "stdout",
     "output_type": "stream",
     "text": [
      "XGBoost optimized model results:\n",
      "Accuracy: 0.846\n",
      "Точность (Precision): 0.947\n",
      "Полнота (Recall): 0.720\n",
      "F1: 0.818\n",
      "Площадь под ROC-кривой (AUC-ROC): 0.841\n",
      "\n"
     ]
    }
   ],
   "source": [
    "print(\"XGBoost optimized model results:\")\n",
    "print(f\"Accuracy: {accuracy_xgb_optimized:.3f}\")\n",
    "print(f\"Точность (Precision): {precision_xgb_optimized:.3f}\")\n",
    "print(f\"Полнота (Recall): {recall_xgb_optimized:.3f}\")\n",
    "print(f\"F1: {f1_xgb_optimized:.3f}\")\n",
    "print(f\"Площадь под ROC-кривой (AUC-ROC): {roc_auc_xgb_optimized:.3f}\\n\")"
   ]
  },
  {
   "cell_type": "code",
   "execution_count": 38,
   "id": "c4dcc82d-4ec4-4441-980d-be70901f5db9",
   "metadata": {},
   "outputs": [
    {
     "data": {
      "text/plain": [
       "['xgboost_optimized_model.joblib']"
      ]
     },
     "execution_count": 38,
     "metadata": {},
     "output_type": "execute_result"
    }
   ],
   "source": [
    "from joblib import dump\n",
    "\n",
    "# Сохранение моделей\n",
    "dump(model_logistic, 'logistic_regression_model.joblib')\n",
    "dump(rf_best, 'random_forest_best_model.joblib')\n",
    "dump(xgb_optimized, 'xgboost_optimized_model.joblib')\n"
   ]
  }
 ],
 "metadata": {
  "kernelspec": {
   "display_name": "Python 3 (ipykernel)",
   "language": "python",
   "name": "python3"
  },
  "language_info": {
   "codemirror_mode": {
    "name": "ipython",
    "version": 3
   },
   "file_extension": ".py",
   "mimetype": "text/x-python",
   "name": "python",
   "nbconvert_exporter": "python",
   "pygments_lexer": "ipython3",
   "version": "3.10.13"
  }
 },
 "nbformat": 4,
 "nbformat_minor": 5
}
